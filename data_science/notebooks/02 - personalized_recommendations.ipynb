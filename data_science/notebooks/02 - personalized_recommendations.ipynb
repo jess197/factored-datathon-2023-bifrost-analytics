{
 "cells": [
  {
   "cell_type": "markdown",
   "id": "f52bdacb",
   "metadata": {},
   "source": [
    "**Table of contents**<a id='toc0_'></a>    \n",
    "- [1. About the Notebook](#toc1_)    \n",
    "- [2. Libraries and Packages](#toc2_)    \n",
    "- [3. Connecting In Snowflake](#toc3_)    \n",
    "- [4. Defining Functions](#toc4_)    \n",
    "  - [4.1. Text Cleaning](#toc4_1_)    \n",
    "  - [4.2. Tokenizing](#toc4_2_)    \n",
    "  - [4.3. Remove Stopwords](#toc4_3_)    \n",
    "  - [4.4. Count Words in each product and discard irrelevant products](#toc4_4_)    \n",
    "  - [4.5. Count Vectorizer](#toc4_5_)    \n",
    "  - [4.6. One Hot Encoding](#toc4_6_)    \n",
    "  - [4.7. Recommendations with WALS](#toc4_7_)    \n",
    "- [5. Loading Data and Applying all Functions](#toc5_)    \n",
    "  - [5.1. Extracting list of all Main Categories](#toc5_1_)    \n",
    "  - [5.2. Producing a Recommendation dataframe to each Main Category](#toc5_2_)    \n",
    "\n",
    "<!-- vscode-jupyter-toc-config\n",
    "\tnumbering=false\n",
    "\tanchor=true\n",
    "\tflat=false\n",
    "\tminLevel=1\n",
    "\tmaxLevel=6\n",
    "\t/vscode-jupyter-toc-config -->\n",
    "<!-- THIS CELL WILL BE REPLACED ON TOC UPDATE. DO NOT WRITE YOUR TEXT IN THIS CELL -->"
   ]
  },
  {
   "cell_type": "markdown",
   "id": "1527991b",
   "metadata": {},
   "source": [
    "# <a id='toc1_'></a>[1. About the Notebook](#toc0_)"
   ]
  },
  {
   "cell_type": "markdown",
   "id": "6d22eb9a",
   "metadata": {},
   "source": [
    "Notebook that creates personalized recommendations"
   ]
  },
  {
   "cell_type": "markdown",
   "id": "d6f43108",
   "metadata": {},
   "source": [
    "# <a id='toc2_'></a>[2. Libraries and Packages](#toc0_)"
   ]
  },
  {
   "cell_type": "code",
   "execution_count": 1,
   "id": "eb274799",
   "metadata": {},
   "outputs": [
    {
     "name": "stderr",
     "output_type": "stream",
     "text": [
      "/home/brunnokalyxton/anaconda3/lib/python3.9/site-packages/snowflake/connector/options.py:103: UserWarning: You have an incompatible version of 'pyarrow' installed (8.0.0), please install a version that adheres to: 'pyarrow<10.1.0,>=10.0.1; extra == \"pandas\"'\n",
      "  warn_incompatible_dep(\n",
      "[nltk_data] Downloading package punkt to\n",
      "[nltk_data]     /home/brunnokalyxton/nltk_data...\n",
      "[nltk_data]   Package punkt is already up-to-date!\n"
     ]
    }
   ],
   "source": [
    "import snowflake.connector\n",
    "import glob, os\n",
    "\n",
    "import pandas as pd\n",
    "import numpy as np\n",
    "from sqlalchemy import create_engine\n",
    "from sqlalchemy import text\n",
    "from sklearn.feature_extraction.text import TfidfVectorizer\n",
    "from sklearn.metrics.pairwise import sigmoid_kernel\n",
    "\n",
    "from time import sleep\n",
    "\n",
    "import nltk\n",
    "nltk.download(\"punkt\")\n",
    "import spacy\n",
    "\n",
    "from loguru import logger\n",
    "\n",
    "\n",
    "import spacy\n",
    "from spacy.lang.en.examples import sentences \n",
    "from tqdm import tqdm\n",
    "import itertools"
   ]
  },
  {
   "cell_type": "markdown",
   "id": "5964b49b",
   "metadata": {},
   "source": [
    "# <a id='toc3_'></a>[3. Connecting In Snowflake](#toc0_)"
   ]
  },
  {
   "cell_type": "code",
   "execution_count": 2,
   "id": "c5171891",
   "metadata": {},
   "outputs": [],
   "source": [
    "conn = snowflake.connector.connect(\n",
    "    user='***********',\n",
    "    password='***************',\n",
    "    account='***************',\n",
    "    warehouse='ANALYTICS_WH',\n",
    "    database='AMAZON',\n",
    "    schema='AMZ_DATA_GOLD',\n",
    "    role = 'ANALYSTS'\n",
    ")"
   ]
  },
  {
   "cell_type": "markdown",
   "id": "47e6d0d8",
   "metadata": {},
   "source": [
    "# <a id='toc4_'></a>[4. Defining Functions](#toc0_)"
   ]
  },
  {
   "cell_type": "code",
   "execution_count": 14,
   "id": "43623da0",
   "metadata": {},
   "outputs": [
    {
     "name": "stderr",
     "output_type": "stream",
     "text": [
      "2023-08-05 01:41:05.714 | INFO     | __main__:<module>:1 - Defining chain_recommendation function...\n"
     ]
    }
   ],
   "source": [
    "logger.info('Defining chain_recommendation function...')\n",
    "\n",
    "def chain_recommendation(df):\n",
    "    product_id = df['product_id'].values.tolist()\n",
    "\n",
    "    all_recommendations = df['recommendations'].values.tolist()\n",
    "    \n",
    "    chained_recommendations = list(itertools.chain.from_iterable(zip(*all_recommendations)))        \n",
    "        \n",
    "    \n",
    "    return pd.Series({'product_id': product_id, 'recommendations': chained_recommendations})"
   ]
  },
  {
   "cell_type": "markdown",
   "id": "502bf9dd",
   "metadata": {},
   "source": [
    "# <a id='toc5_'></a>[5. Loading Category Data](#toc0_)"
   ]
  },
  {
   "cell_type": "code",
   "execution_count": 15,
   "id": "7f0d734c",
   "metadata": {},
   "outputs": [],
   "source": [
    "query1 = \"\"\"\n",
    "WITH CTE AS (\n",
    "    SELECT \n",
    "        REV.REVIEWER_ID,\n",
    "        REV.ASIN,\n",
    "        REV.REVIEW_TEXT,\n",
    "        PROD.MAIN_CATEGORY,\n",
    "        AVG(REV.OVERALL) OVER (PARTITION BY REV.ASIN) AS \"PRODUCT_AVG_RATING\" \n",
    "    FROM\n",
    "        PRODUCTS_REVIEWS AS REV\n",
    "    INNER JOIN \n",
    "        PRODUCTS AS PROD ON REV.ASIN = PROD.ASIN\n",
    "    WHERE \n",
    "        REV.REVIEW_TEXT IS NOT NULL AND \n",
    "        REV.REVIEW_TEXT <> '' \n",
    ")\n",
    "SELECT \n",
    "    DISTINCT MAIN_CATEGORY\n",
    "FROM \n",
    "    CTE\n",
    "WHERE \n",
    "    PRODUCT_AVG_RATING >=4 AND\n",
    "    MAIN_CATEGORY IS NOT NULL AND \n",
    "    MAIN_CATEGORY <> ''\n",
    "GROUP BY\n",
    "    1\n",
    "\"\"\""
   ]
  },
  {
   "cell_type": "code",
   "execution_count": 16,
   "id": "1860ae67",
   "metadata": {},
   "outputs": [
    {
     "name": "stderr",
     "output_type": "stream",
     "text": [
      "/tmp/ipykernel_7010/3386730848.py:1: UserWarning: pandas only supports SQLAlchemy connectable (engine/connection) or database string URI or sqlite3 DBAPI2 connection. Other DBAPI2 objects are not tested. Please consider using SQLAlchemy.\n",
      "  category = pd.read_sql_query(query1, conn)\n"
     ]
    }
   ],
   "source": [
    "category = pd.read_sql_query(query1, conn)"
   ]
  },
  {
   "cell_type": "code",
   "execution_count": 17,
   "id": "936c393e",
   "metadata": {},
   "outputs": [],
   "source": [
    "category_list = category.MAIN_CATEGORY.values.tolist()"
   ]
  },
  {
   "cell_type": "markdown",
   "id": "49d98f34",
   "metadata": {},
   "source": [
    "# <a id='toc6_'></a>[6. Personalized Recommendations](#toc0_)"
   ]
  },
  {
   "cell_type": "code",
   "execution_count": 19,
   "id": "302972d7",
   "metadata": {},
   "outputs": [
    {
     "name": "stderr",
     "output_type": "stream",
     "text": [
      "/tmp/ipykernel_7010/3470674740.py:36: UserWarning: pandas only supports SQLAlchemy connectable (engine/connection) or database string URI or sqlite3 DBAPI2 connection. Other DBAPI2 objects are not tested. Please consider using SQLAlchemy.\n",
      "  purchases = pd.read_sql_query(query, conn)\n",
      "Processing personalized recommendations for Movies & Tv...: 100%|██████████| 1563/1563 [00:00<00:00, 4332.30it/s]\n",
      "/tmp/ipykernel_7010/3470674740.py:36: UserWarning: pandas only supports SQLAlchemy connectable (engine/connection) or database string URI or sqlite3 DBAPI2 connection. Other DBAPI2 objects are not tested. Please consider using SQLAlchemy.\n",
      "  purchases = pd.read_sql_query(query, conn)\n"
     ]
    },
    {
     "name": "stdout",
     "output_type": "stream",
     "text": [
      "File 'recommendations_Alexa Skills' not found.\n",
      "File 'recommendations_Audible Audiobooks' not found.\n",
      "File 'recommendations_Portable Audio & Accessories' not found.\n",
      "File 'recommendations_Buy A Kindle' not found.\n",
      "File 'recommendations_Software' not found.\n"
     ]
    },
    {
     "name": "stderr",
     "output_type": "stream",
     "text": [
      "Processing personalized recommendations for Amazon Fashion...: 100%|██████████| 862/862 [00:00<00:00, 4118.44it/s]\n",
      "/tmp/ipykernel_7010/3470674740.py:36: UserWarning: pandas only supports SQLAlchemy connectable (engine/connection) or database string URI or sqlite3 DBAPI2 connection. Other DBAPI2 objects are not tested. Please consider using SQLAlchemy.\n",
      "  purchases = pd.read_sql_query(query, conn)\n"
     ]
    },
    {
     "name": "stdout",
     "output_type": "stream",
     "text": [
      "File 'recommendations_Collectible Coins' not found.\n",
      "File 'recommendations_Computers' not found.\n"
     ]
    },
    {
     "name": "stderr",
     "output_type": "stream",
     "text": [
      "Processing personalized recommendations for Cell Phones & Accessories...: 100%|██████████| 1041/1041 [00:00<00:00, 3931.12it/s]\n",
      "/tmp/ipykernel_7010/3470674740.py:36: UserWarning: pandas only supports SQLAlchemy connectable (engine/connection) or database string URI or sqlite3 DBAPI2 connection. Other DBAPI2 objects are not tested. Please consider using SQLAlchemy.\n",
      "  purchases = pd.read_sql_query(query, conn)\n"
     ]
    },
    {
     "name": "stdout",
     "output_type": "stream",
     "text": [
      "File 'recommendations_Gift Cards' not found.\n",
      "File 'recommendations_Fine Art' not found.\n",
      "File 'recommendations_Vehicles' not found.\n"
     ]
    },
    {
     "name": "stderr",
     "output_type": "stream",
     "text": [
      "Processing personalized recommendations for Pet Supplies...: 100%|██████████| 120592/120592 [00:31<00:00, 3824.40it/s]\n",
      "/tmp/ipykernel_7010/3470674740.py:36: UserWarning: pandas only supports SQLAlchemy connectable (engine/connection) or database string URI or sqlite3 DBAPI2 connection. Other DBAPI2 objects are not tested. Please consider using SQLAlchemy.\n",
      "  purchases = pd.read_sql_query(query, conn)\n",
      "Processing personalized recommendations for Arts, Crafts & Sewing...: 100%|██████████| 423/423 [00:00<00:00, 3906.95it/s]\n",
      "/tmp/ipykernel_7010/3470674740.py:36: UserWarning: pandas only supports SQLAlchemy connectable (engine/connection) or database string URI or sqlite3 DBAPI2 connection. Other DBAPI2 objects are not tested. Please consider using SQLAlchemy.\n",
      "  purchases = pd.read_sql_query(query, conn)\n"
     ]
    },
    {
     "name": "stdout",
     "output_type": "stream",
     "text": [
      "File 'recommendations_Amazon Launchpad' not found.\n"
     ]
    },
    {
     "name": "stderr",
     "output_type": "stream",
     "text": [
      "Processing personalized recommendations for Books...: 100%|██████████| 1646/1646 [00:00<00:00, 4399.49it/s]\n",
      "/tmp/ipykernel_7010/3470674740.py:36: UserWarning: pandas only supports SQLAlchemy connectable (engine/connection) or database string URI or sqlite3 DBAPI2 connection. Other DBAPI2 objects are not tested. Please consider using SQLAlchemy.\n",
      "  purchases = pd.read_sql_query(query, conn)\n",
      "Processing personalized recommendations for Office Products...: 100%|██████████| 1221/1221 [00:00<00:00, 4471.92it/s]\n",
      "/tmp/ipykernel_7010/3470674740.py:36: UserWarning: pandas only supports SQLAlchemy connectable (engine/connection) or database string URI or sqlite3 DBAPI2 connection. Other DBAPI2 objects are not tested. Please consider using SQLAlchemy.\n",
      "  purchases = pd.read_sql_query(query, conn)\n"
     ]
    },
    {
     "name": "stdout",
     "output_type": "stream",
     "text": [
      "File 'recommendations_Automotive' not found.\n",
      "File 'recommendations_All Electronics' not found.\n"
     ]
    },
    {
     "name": "stderr",
     "output_type": "stream",
     "text": [
      "Processing personalized recommendations for Tools & Home Improvement...: 100%|██████████| 3316/3316 [00:00<00:00, 4455.29it/s]\n",
      "/tmp/ipykernel_7010/3470674740.py:36: UserWarning: pandas only supports SQLAlchemy connectable (engine/connection) or database string URI or sqlite3 DBAPI2 connection. Other DBAPI2 objects are not tested. Please consider using SQLAlchemy.\n",
      "  purchases = pd.read_sql_query(query, conn)\n"
     ]
    },
    {
     "name": "stdout",
     "output_type": "stream",
     "text": [
      "File 'recommendations_Baby' not found.\n",
      "File 'recommendations_Home Audio & Theater' not found.\n",
      "File 'recommendations_Gps & Navigation' not found.\n",
      "File 'recommendations_Shorts' not found.\n"
     ]
    },
    {
     "name": "stderr",
     "output_type": "stream",
     "text": [
      "Processing personalized recommendations for Toys & Games...: 100%|██████████| 1608/1608 [00:00<00:00, 4288.89it/s]\n",
      "/tmp/ipykernel_7010/3470674740.py:36: UserWarning: pandas only supports SQLAlchemy connectable (engine/connection) or database string URI or sqlite3 DBAPI2 connection. Other DBAPI2 objects are not tested. Please consider using SQLAlchemy.\n",
      "  purchases = pd.read_sql_query(query, conn)\n"
     ]
    },
    {
     "name": "stdout",
     "output_type": "stream",
     "text": [
      "File 'recommendations_Video Games' not found.\n",
      "File 'recommendations_Camera & Photo' not found.\n",
      "File 'recommendations_Musical Instruments' not found.\n"
     ]
    },
    {
     "name": "stderr",
     "output_type": "stream",
     "text": [
      "Processing personalized recommendations for Sports & Outdoors...: 100%|██████████| 330867/330867 [01:31<00:00, 3598.61it/s]\n"
     ]
    },
    {
     "name": "stdout",
     "output_type": "stream",
     "text": [
      "File 'recommendations_Prime Pantry' not found.\n"
     ]
    },
    {
     "name": "stderr",
     "output_type": "stream",
     "text": [
      "/tmp/ipykernel_7010/3470674740.py:36: UserWarning: pandas only supports SQLAlchemy connectable (engine/connection) or database string URI or sqlite3 DBAPI2 connection. Other DBAPI2 objects are not tested. Please consider using SQLAlchemy.\n",
      "  purchases = pd.read_sql_query(query, conn)\n",
      "Processing personalized recommendations for Digital Music...: 100%|██████████| 12879/12879 [00:04<00:00, 2982.95it/s]\n",
      "/tmp/ipykernel_7010/3470674740.py:36: UserWarning: pandas only supports SQLAlchemy connectable (engine/connection) or database string URI or sqlite3 DBAPI2 connection. Other DBAPI2 objects are not tested. Please consider using SQLAlchemy.\n",
      "  purchases = pd.read_sql_query(query, conn)\n",
      "Processing personalized recommendations for All Beauty...: 100%|██████████| 3649/3649 [00:00<00:00, 4484.17it/s]\n",
      "/tmp/ipykernel_7010/3470674740.py:36: UserWarning: pandas only supports SQLAlchemy connectable (engine/connection) or database string URI or sqlite3 DBAPI2 connection. Other DBAPI2 objects are not tested. Please consider using SQLAlchemy.\n",
      "  purchases = pd.read_sql_query(query, conn)\n"
     ]
    },
    {
     "name": "stdout",
     "output_type": "stream",
     "text": [
      "File 'recommendations_Fire Phone' not found.\n",
      "File 'recommendations_Memberships & Subscriptions' not found.\n",
      "File 'recommendations_3d Printing' not found.\n",
      "File 'recommendations_Luxury Beauty' not found.\n"
     ]
    },
    {
     "name": "stderr",
     "output_type": "stream",
     "text": [
      "Processing personalized recommendations for Amazon Devices...: 100%|██████████| 161/161 [00:00<00:00, 3044.26it/s]\n",
      "/tmp/ipykernel_7010/3470674740.py:36: UserWarning: pandas only supports SQLAlchemy connectable (engine/connection) or database string URI or sqlite3 DBAPI2 connection. Other DBAPI2 objects are not tested. Please consider using SQLAlchemy.\n",
      "  purchases = pd.read_sql_query(query, conn)\n"
     ]
    },
    {
     "name": "stdout",
     "output_type": "stream",
     "text": [
      "File 'recommendations_Apple Products' not found.\n"
     ]
    },
    {
     "name": "stderr",
     "output_type": "stream",
     "text": [
      "Processing personalized recommendations for Health & Personal Care...: 100%|██████████| 17397/17397 [00:05<00:00, 3317.46it/s]\n",
      "/tmp/ipykernel_7010/3470674740.py:36: UserWarning: pandas only supports SQLAlchemy connectable (engine/connection) or database string URI or sqlite3 DBAPI2 connection. Other DBAPI2 objects are not tested. Please consider using SQLAlchemy.\n",
      "  purchases = pd.read_sql_query(query, conn)\n",
      "Processing personalized recommendations for Grocery...: 100%|██████████| 83684/83684 [00:19<00:00, 4231.98it/s]\n"
     ]
    },
    {
     "name": "stdout",
     "output_type": "stream",
     "text": [
      "File 'recommendations_Appliances' not found.\n"
     ]
    },
    {
     "name": "stderr",
     "output_type": "stream",
     "text": [
      "/tmp/ipykernel_7010/3470674740.py:36: UserWarning: pandas only supports SQLAlchemy connectable (engine/connection) or database string URI or sqlite3 DBAPI2 connection. Other DBAPI2 objects are not tested. Please consider using SQLAlchemy.\n",
      "  purchases = pd.read_sql_query(query, conn)\n",
      "Processing personalized recommendations for Amazon Home...: 100%|██████████| 6681/6681 [00:01<00:00, 4291.37it/s]\n",
      "/tmp/ipykernel_7010/3470674740.py:36: UserWarning: pandas only supports SQLAlchemy connectable (engine/connection) or database string URI or sqlite3 DBAPI2 connection. Other DBAPI2 objects are not tested. Please consider using SQLAlchemy.\n",
      "  purchases = pd.read_sql_query(query, conn)\n",
      "Processing personalized recommendations for Collectibles & Fine Art...: 100%|██████████| 348/348 [00:00<00:00, 3696.78it/s]\n",
      "/tmp/ipykernel_7010/3470674740.py:36: UserWarning: pandas only supports SQLAlchemy connectable (engine/connection) or database string URI or sqlite3 DBAPI2 connection. Other DBAPI2 objects are not tested. Please consider using SQLAlchemy.\n",
      "  purchases = pd.read_sql_query(query, conn)\n"
     ]
    },
    {
     "name": "stdout",
     "output_type": "stream",
     "text": [
      "File 'recommendations_Handmade' not found.\n"
     ]
    },
    {
     "name": "stderr",
     "output_type": "stream",
     "text": [
      "Processing personalized recommendations for Sports Collectibles...: 100%|██████████| 169/169 [00:00<00:00, 3225.86it/s]\n",
      "/tmp/ipykernel_7010/3470674740.py:36: UserWarning: pandas only supports SQLAlchemy connectable (engine/connection) or database string URI or sqlite3 DBAPI2 connection. Other DBAPI2 objects are not tested. Please consider using SQLAlchemy.\n",
      "  purchases = pd.read_sql_query(query, conn)\n"
     ]
    },
    {
     "name": "stdout",
     "output_type": "stream",
     "text": [
      "File 'recommendations_Amazon Fire Tv' not found.\n",
      "File 'recommendations_Home & Business Services' not found.\n",
      "File 'recommendations_Magazine Subscriptions' not found.\n"
     ]
    },
    {
     "name": "stderr",
     "output_type": "stream",
     "text": [
      "Processing personalized recommendations for Industrial & Scientific...: 100%|██████████| 32097/32097 [00:16<00:00, 1907.47it/s]"
     ]
    },
    {
     "name": "stdout",
     "output_type": "stream",
     "text": [
      "File 'recommendations_Car Electronics' not found.\n",
      "File 'recommendations_Entertainment' not found.\n"
     ]
    },
    {
     "name": "stderr",
     "output_type": "stream",
     "text": [
      "\n"
     ]
    }
   ],
   "source": [
    "for i in category_list:\n",
    "    try:\n",
    "        df_name = f'recommendations_{i}'  # Creating a name for the DataFrame\n",
    "        globals()[df_name]  = pd.read_parquet(\n",
    "            \"../output/similarity/recommendations_{i}.parquet\".format(i=i)\n",
    "        )\n",
    "    \n",
    "        query = \"\"\"\n",
    "        WITH CTE AS (\n",
    "            SELECT \n",
    "                REV.REVIEWER_ID,\n",
    "                REV.ASIN,\n",
    "                REV.REVIEW_TEXT,\n",
    "                PROD.MAIN_CATEGORY,\n",
    "                AVG(REV.OVERALL) OVER (PARTITION BY REV.ASIN) AS \"PRODUCT_AVG_RATING\" \n",
    "            FROM\n",
    "                PRODUCTS_REVIEWS AS REV\n",
    "            INNER JOIN \n",
    "                PRODUCTS AS PROD ON REV.ASIN = PROD.ASIN\n",
    "            WHERE \n",
    "                REV.REVIEW_TEXT IS NOT NULL AND \n",
    "                REV.REVIEW_TEXT <> '' AND\n",
    "                PROD.MAIN_CATEGORY = '{i}'\n",
    "        )\n",
    "        SELECT \n",
    "            CTE.REVIEWER_ID,\n",
    "            LISTAGG(DISTINCT CTE.ASIN, ',') AS PRODUCT_BOUGHT\n",
    "        FROM \n",
    "            CTE\n",
    "        WHERE \n",
    "            CTE.PRODUCT_AVG_RATING >=4\n",
    "        GROUP BY\n",
    "            1\n",
    "        \"\"\".format(i=i)\n",
    "        \n",
    "        purchases = pd.read_sql_query(query, conn)\n",
    "\n",
    "        purchases = purchases.rename({'REVIEWER_ID': 'REVIEWER_ID', 'PRODUCT_BOUGHT': 'product_id'}, axis=1)\n",
    "        purchases['product_id'] = purchases['product_id'].values.tolist()\n",
    "        multiple_purchases_casted = purchases.copy()\n",
    "        multiple_purchases_casted['product_id'] = multiple_purchases_casted['product_id'].apply(lambda x: x.split(','))\n",
    "        multiple_purchases_exploded = multiple_purchases_casted.explode('product_id')\n",
    "        purchases_recommendations_wide = pd.merge(multiple_purchases_exploded, globals()[df_name], how='inner', on = 'product_id')\n",
    "        \n",
    "        if len(purchases_recommendations_wide) > 0:\n",
    "\n",
    "            tqdm.pandas(desc=\"Processing personalized recommendations for {i}...\".format(i=i))\n",
    "            personalized = purchases_recommendations_wide.groupby('REVIEWER_ID').progress_apply(chain_recommendation).reset_index()\n",
    "\n",
    "            personalized.to_parquet(\n",
    "                    path=\"../output/personalized/personalized_{i}.parquet\".format(i=i),\n",
    "                    engine=\"auto\"\n",
    "                )  \n",
    "        else:\n",
    "            pass\n",
    "    except FileNotFoundError:\n",
    "    \n",
    "        print(f\"File 'recommendations_{i}' not found.\".format(i=i))\n",
    "    \n",
    "        continue"
   ]
  },
  {
   "cell_type": "markdown",
   "id": "6d4a2846",
   "metadata": {},
   "source": [
    "# <a id='toc7_'></a>[7. Merging Recommendations Dataframes](#toc0_)"
   ]
  },
  {
   "cell_type": "code",
   "execution_count": 3,
   "id": "adb0de92",
   "metadata": {},
   "outputs": [],
   "source": [
    "# Returns a dataframe that contains all of the directory's parquet files\n",
    "def combine_directory_of_parquet(directory='../output/similarity/**.parquet', recursive=True, columns=[]):\n",
    "\n",
    "    # Create an empty dataframe to hold our combined data\n",
    "    merged_df = pd.DataFrame(columns=columns)\n",
    "\n",
    "    # Iterate over all of the files in the provided directory and\n",
    "    # configure if we want to recursively search the directory\n",
    "    for filename in glob.iglob(pathname=directory, recursive=recursive):\n",
    "\n",
    "        # Check if the file is actually a file (not a directory) and make sure it is a parquet file\n",
    "        if os.path.isfile(filename):\n",
    "            try:\n",
    "                # Perform a read on our dataframe\n",
    "                temp_df = pd.read_parquet(filename)\n",
    "\n",
    "                # Attempt to merge it into our combined dataframe\n",
    "                merged_df = pd.concat([merged_df, temp_df], ignore_index=True)\n",
    "                # merged_df = merged_df.append(temp_df, ignore_index=True)\n",
    "\n",
    "            except Exception as e:\n",
    "                print('Skipping {} due to error: {}'.format(filename, e))\n",
    "                continue\n",
    "        else:\n",
    "            print('Not a file {}'.format(filename))\n",
    "\n",
    "    # Return the result!\n",
    "    return merged_df"
   ]
  },
  {
   "cell_type": "code",
   "execution_count": 4,
   "id": "c281adb0",
   "metadata": {},
   "outputs": [],
   "source": [
    "# Columns for similarity recommendations dataframe\n",
    "columns = ['product_id', 'recommendations', 'MAIN_CATEGORY']\n",
    "\n",
    "\n",
    "similarity_recommendations = combine_directory_of_parquet(directory='../output/similarity/**.parquet', recursive=True, columns=columns)\n",
    "\n",
    "# Saving all similarity recommendations\n",
    "similarity_recommendations.to_parquet(\n",
    "                    path=\"../output/similarity/similarity_recommendations.parquet\",\n",
    "                    engine=\"auto\"\n",
    "                ) "
   ]
  },
  {
   "cell_type": "code",
   "execution_count": 5,
   "id": "9b306bab",
   "metadata": {},
   "outputs": [],
   "source": [
    "# Columns for personalized recommendations dataframe\n",
    "columns = ['REVIEWER_ID', 'product_id', 'recommendations']\n",
    "\n",
    "# You can modify the directory path below, the asterisks are wildcard selectors to match any file.\n",
    "personalized_recommendations = combine_directory_of_parquet(directory='../output/personalized/**.parquet', recursive=True, columns=columns)\n",
    "\n",
    "# Saving all personalized recommendations\n",
    "personalized_recommendations.to_parquet(\n",
    "                    path=\"../output/personalized/personalized_recommendations.parquet\",\n",
    "                    engine=\"auto\"\n",
    "                ) "
   ]
  },
  {
   "cell_type": "markdown",
   "id": "110c3c65",
   "metadata": {},
   "source": [
    "# <a id='toc8_'></a>[8. Sending Data To Snowflake](#toc0_)"
   ]
  },
  {
   "cell_type": "code",
   "execution_count": null,
   "id": "ad9afffe",
   "metadata": {},
   "outputs": [],
   "source": [
    "# personalized_recommendations\n",
    "# similarity_recommendations"
   ]
  }
 ],
 "metadata": {
  "kernelspec": {
   "display_name": "Python 3 (ipykernel)",
   "language": "python",
   "name": "python3"
  },
  "language_info": {
   "codemirror_mode": {
    "name": "ipython",
    "version": 3
   },
   "file_extension": ".py",
   "mimetype": "text/x-python",
   "name": "python",
   "nbconvert_exporter": "python",
   "pygments_lexer": "ipython3",
   "version": "3.9.13"
  },
  "vscode": {
   "interpreter": {
    "hash": "916dbcbb3f70747c44a77c7bcd40155683ae19c65e1c03b4aa3499c5328201f1"
   }
  }
 },
 "nbformat": 4,
 "nbformat_minor": 5
}
