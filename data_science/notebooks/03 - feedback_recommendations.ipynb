{
 "cells": [
  {
   "cell_type": "markdown",
   "id": "f52bdacb",
   "metadata": {},
   "source": [
    "**Table of contents**<a id='toc0_'></a>    \n",
    "- [1. About the Notebook](#toc1_)    \n",
    "- [2. Libraries and Packages](#toc2_)    \n",
    "- [3. Connecting In Snowflake](#toc3_)    \n",
    "- [4. Defining Functions](#toc4_)    \n",
    "  - [4.1. Text Cleaning](#toc4_1_)    \n",
    "  - [4.2. Tokenizing](#toc4_2_)    \n",
    "  - [4.3. Remove Stopwords](#toc4_3_)    \n",
    "  - [4.4. Count Words in each product and discard irrelevant products](#toc4_4_)    \n",
    "  - [4.5. Count Vectorizer](#toc4_5_)    \n",
    "  - [4.6. One Hot Encoding](#toc4_6_)    \n",
    "  - [4.7. Recommendations with WALS](#toc4_7_)    \n",
    "- [5. Loading Data and Applying all Functions](#toc5_)    \n",
    "  - [5.1. Extracting list of all Main Categories](#toc5_1_)    \n",
    "  - [5.2. Producing a Recommendation dataframe to each Main Category](#toc5_2_)    \n",
    "\n",
    "<!-- vscode-jupyter-toc-config\n",
    "\tnumbering=false\n",
    "\tanchor=true\n",
    "\tflat=false\n",
    "\tminLevel=1\n",
    "\tmaxLevel=6\n",
    "\t/vscode-jupyter-toc-config -->\n",
    "<!-- THIS CELL WILL BE REPLACED ON TOC UPDATE. DO NOT WRITE YOUR TEXT IN THIS CELL -->"
   ]
  },
  {
   "cell_type": "markdown",
   "id": "1527991b",
   "metadata": {},
   "source": [
    "# <a id='toc1_'></a>[1. About the Notebook](#toc0_)"
   ]
  },
  {
   "cell_type": "markdown",
   "id": "6d22eb9a",
   "metadata": {},
   "source": [
    "Notebook that creates feedback recommendations"
   ]
  },
  {
   "cell_type": "markdown",
   "id": "d6f43108",
   "metadata": {},
   "source": [
    "# <a id='toc2_'></a>[2. Libraries and Packages](#toc0_)"
   ]
  },
  {
   "cell_type": "code",
   "execution_count": 9,
   "id": "d04c8df1",
   "metadata": {},
   "outputs": [
    {
     "name": "stderr",
     "output_type": "stream",
     "text": [
      "[nltk_data] Downloading package punkt to\n",
      "[nltk_data]     /home/brunnokalyxton/nltk_data...\n",
      "[nltk_data]   Package punkt is already up-to-date!\n",
      "[nltk_data] Downloading package wordnet to\n",
      "[nltk_data]     /home/brunnokalyxton/nltk_data...\n",
      "[nltk_data]   Package wordnet is already up-to-date!\n",
      "[nltk_data] Downloading package stopwords to\n",
      "[nltk_data]     /home/brunnokalyxton/nltk_data...\n",
      "[nltk_data]   Package stopwords is already up-to-date!\n"
     ]
    },
    {
     "data": {
      "text/plain": [
       "True"
      ]
     },
     "execution_count": 9,
     "metadata": {},
     "output_type": "execute_result"
    }
   ],
   "source": [
    "import os\n",
    "import snowflake.connector\n",
    "import sqlalchemy\n",
    "from loguru import logger\n",
    "import nltk\n",
    "import pandas as pd\n",
    "from nltk.corpus import stopwords\n",
    "from nltk.tokenize import word_tokenize\n",
    "from nltk.stem import WordNetLemmatizer\n",
    "from sklearn.feature_extraction.text import TfidfVectorizer\n",
    "from sklearn.model_selection import train_test_split\n",
    "from sklearn.svm import SVC\n",
    "from sklearn.cluster import KMeans\n",
    "from sklearn.metrics import accuracy_score, classification_report, silhouette_score\n",
    "from wordcloud import WordCloud\n",
    "import matplotlib.pyplot as plt\n",
    "import joblib\n",
    "\n",
    "nltk.download('punkt')\n",
    "nltk.download('wordnet')\n",
    "nltk.download('stopwords')"
   ]
  },
  {
   "cell_type": "markdown",
   "id": "5964b49b",
   "metadata": {},
   "source": [
    "# <a id='toc3_'></a>[3. Connecting In Snowflake](#toc0_)"
   ]
  },
  {
   "cell_type": "code",
   "execution_count": 10,
   "id": "c5171891",
   "metadata": {},
   "outputs": [],
   "source": [
    "conn = snowflake.connector.connect(\n",
    "    user='***********',\n",
    "    password='***********',\n",
    "    account='***********',\n",
    "    warehouse='ANALYTICS_WH',\n",
    "    database='AMAZON',\n",
    "    schema='AMZ_DATA_GOLD',\n",
    "    role = 'ANALYSTS'\n",
    ")"
   ]
  },
  {
   "cell_type": "markdown",
   "id": "47e6d0d8",
   "metadata": {},
   "source": [
    "# <a id='toc4_'></a>[4. Defining Functions](#toc0_)"
   ]
  },
  {
   "cell_type": "code",
   "execution_count": 11,
   "id": "cf6a09e1",
   "metadata": {},
   "outputs": [],
   "source": [
    "stop_words = set(stopwords.words('english'))\n",
    "lemmatizer = WordNetLemmatizer()"
   ]
  },
  {
   "cell_type": "code",
   "execution_count": 12,
   "id": "4f5a3cab",
   "metadata": {},
   "outputs": [],
   "source": [
    "def preprocess_text(text):\n",
    "    words = word_tokenize(text.lower())\n",
    "    words = [lemmatizer.lemmatize(word) for word in words if word.isalpha() and word not in stop_words]\n",
    "    return ' '.join(words)"
   ]
  },
  {
   "cell_type": "markdown",
   "id": "502bf9dd",
   "metadata": {},
   "source": [
    "# <a id='toc5_'></a>[5. Loading Category Data](#toc0_)"
   ]
  },
  {
   "cell_type": "code",
   "execution_count": 13,
   "id": "7f0d734c",
   "metadata": {},
   "outputs": [],
   "source": [
    "query1 = \"\"\"\n",
    "WITH CTE AS (\n",
    "    SELECT \n",
    "        REV.REVIEWER_ID,\n",
    "        REV.ASIN,\n",
    "        REV.REVIEW_TEXT,\n",
    "        PROD.MAIN_CATEGORY,\n",
    "        AVG(REV.OVERALL) OVER (PARTITION BY REV.ASIN) AS \"PRODUCT_AVG_RATING\" \n",
    "    FROM\n",
    "        PRODUCTS_REVIEWS AS REV\n",
    "    INNER JOIN \n",
    "        PRODUCTS AS PROD ON REV.ASIN = PROD.ASIN\n",
    "    WHERE \n",
    "        REV.REVIEW_TEXT IS NOT NULL AND \n",
    "        REV.REVIEW_TEXT <> '' \n",
    ")\n",
    "SELECT \n",
    "    DISTINCT MAIN_CATEGORY\n",
    "FROM \n",
    "    CTE\n",
    "WHERE \n",
    "    PRODUCT_AVG_RATING >=4 AND\n",
    "    MAIN_CATEGORY IS NOT NULL AND \n",
    "    MAIN_CATEGORY <> ''\n",
    "GROUP BY\n",
    "    1\n",
    "\"\"\""
   ]
  },
  {
   "cell_type": "code",
   "execution_count": 14,
   "id": "1860ae67",
   "metadata": {},
   "outputs": [
    {
     "name": "stderr",
     "output_type": "stream",
     "text": [
      "/tmp/ipykernel_16979/3386730848.py:1: UserWarning: pandas only supports SQLAlchemy connectable (engine/connection) or database string URI or sqlite3 DBAPI2 connection. Other DBAPI2 objects are not tested. Please consider using SQLAlchemy.\n",
      "  category = pd.read_sql_query(query1, conn)\n"
     ]
    }
   ],
   "source": [
    "category = pd.read_sql_query(query1, conn)"
   ]
  },
  {
   "cell_type": "code",
   "execution_count": 15,
   "id": "936c393e",
   "metadata": {},
   "outputs": [],
   "source": [
    "category_list = category.MAIN_CATEGORY.values.tolist()"
   ]
  },
  {
   "cell_type": "code",
   "execution_count": 16,
   "id": "8cc3f5f6",
   "metadata": {},
   "outputs": [
    {
     "name": "stderr",
     "output_type": "stream",
     "text": [
      "2023-08-05 12:05:55.899 | INFO     | __main__:<module>:40 - Loading Data category Movies & Tv...\n",
      "/tmp/ipykernel_16979/1170871101.py:41: UserWarning: pandas only supports SQLAlchemy connectable (engine/connection) or database string URI or sqlite3 DBAPI2 connection. Other DBAPI2 objects are not tested. Please consider using SQLAlchemy.\n",
      "  reviews = pd.read_sql_query(query, conn)\n",
      "2023-08-05 12:06:03.606 | INFO     | __main__:<module>:57 - Training Classifier Model Movies & Tv...\n",
      "2023-08-05 12:06:09.120 | INFO     | __main__:<module>:70 - Creating Clusters for Movies & Tv...\n",
      "/tmp/ipykernel_16979/1170871101.py:85: SettingWithCopyWarning: \n",
      "A value is trying to be set on a copy of a slice from a DataFrame.\n",
      "Try using .loc[row_indexer,col_indexer] = value instead\n",
      "\n",
      "See the caveats in the documentation: https://pandas.pydata.org/pandas-docs/stable/user_guide/indexing.html#returning-a-view-versus-a-copy\n",
      "  negative_reviews.loc[:, 'cluster'] = kmeans.labels_\n",
      "2023-08-05 12:06:35.577 | INFO     | __main__:<module>:87 - Saving Complaints Movies & Tv...\n",
      "2023-08-05 12:06:35.643 | INFO     | __main__:<module>:101 - Savind Wordclouds Movies & Tv...\n",
      "2023-08-05 12:06:43.243 | INFO     | __main__:<module>:120 - Saving Models Movies & Tv...\n",
      "2023-08-05 12:06:43.346 | INFO     | __main__:<module>:40 - Loading Data category Alexa Skills...\n",
      "/tmp/ipykernel_16979/1170871101.py:41: UserWarning: pandas only supports SQLAlchemy connectable (engine/connection) or database string URI or sqlite3 DBAPI2 connection. Other DBAPI2 objects are not tested. Please consider using SQLAlchemy.\n",
      "  reviews = pd.read_sql_query(query, conn)\n",
      "2023-08-05 12:06:43.570 | INFO     | __main__:<module>:40 - Loading Data category Audible Audiobooks...\n"
     ]
    },
    {
     "name": "stdout",
     "output_type": "stream",
     "text": [
      "Size for category 'Alexa Skills' is 100\n"
     ]
    },
    {
     "name": "stderr",
     "output_type": "stream",
     "text": [
      "/tmp/ipykernel_16979/1170871101.py:41: UserWarning: pandas only supports SQLAlchemy connectable (engine/connection) or database string URI or sqlite3 DBAPI2 connection. Other DBAPI2 objects are not tested. Please consider using SQLAlchemy.\n",
      "  reviews = pd.read_sql_query(query, conn)\n",
      "2023-08-05 12:06:43.794 | INFO     | __main__:<module>:40 - Loading Data category Portable Audio & Accessories...\n"
     ]
    },
    {
     "name": "stdout",
     "output_type": "stream",
     "text": [
      "Size for category 'Audible Audiobooks' is 100\n"
     ]
    },
    {
     "name": "stderr",
     "output_type": "stream",
     "text": [
      "/tmp/ipykernel_16979/1170871101.py:41: UserWarning: pandas only supports SQLAlchemy connectable (engine/connection) or database string URI or sqlite3 DBAPI2 connection. Other DBAPI2 objects are not tested. Please consider using SQLAlchemy.\n",
      "  reviews = pd.read_sql_query(query, conn)\n",
      "2023-08-05 12:06:44.468 | INFO     | __main__:<module>:57 - Training Classifier Model Portable Audio & Accessories...\n",
      "2023-08-05 12:06:44.480 | INFO     | __main__:<module>:70 - Creating Clusters for Portable Audio & Accessories...\n",
      "/tmp/ipykernel_16979/1170871101.py:85: SettingWithCopyWarning: \n",
      "A value is trying to be set on a copy of a slice from a DataFrame.\n",
      "Try using .loc[row_indexer,col_indexer] = value instead\n",
      "\n",
      "See the caveats in the documentation: https://pandas.pydata.org/pandas-docs/stable/user_guide/indexing.html#returning-a-view-versus-a-copy\n",
      "  negative_reviews.loc[:, 'cluster'] = kmeans.labels_\n",
      "2023-08-05 12:06:45.118 | INFO     | __main__:<module>:87 - Saving Complaints Portable Audio & Accessories...\n",
      "2023-08-05 12:06:45.177 | INFO     | __main__:<module>:101 - Savind Wordclouds Portable Audio & Accessories...\n",
      "2023-08-05 12:06:49.786 | INFO     | __main__:<module>:120 - Saving Models Portable Audio & Accessories...\n",
      "2023-08-05 12:06:49.794 | INFO     | __main__:<module>:40 - Loading Data category Buy A Kindle...\n",
      "/tmp/ipykernel_16979/1170871101.py:41: UserWarning: pandas only supports SQLAlchemy connectable (engine/connection) or database string URI or sqlite3 DBAPI2 connection. Other DBAPI2 objects are not tested. Please consider using SQLAlchemy.\n",
      "  reviews = pd.read_sql_query(query, conn)\n",
      "2023-08-05 12:06:50.040 | INFO     | __main__:<module>:40 - Loading Data category Software...\n"
     ]
    },
    {
     "name": "stdout",
     "output_type": "stream",
     "text": [
      "Size for category 'Buy A Kindle' is 100\n"
     ]
    },
    {
     "name": "stderr",
     "output_type": "stream",
     "text": [
      "2023-08-05 12:06:53.285 | INFO     | __main__:<module>:57 - Training Classifier Model Software...\n",
      "2023-08-05 12:06:53.843 | INFO     | __main__:<module>:70 - Creating Clusters for Software...\n",
      "/tmp/ipykernel_16979/1170871101.py:85: SettingWithCopyWarning: \n",
      "A value is trying to be set on a copy of a slice from a DataFrame.\n",
      "Try using .loc[row_indexer,col_indexer] = value instead\n",
      "\n",
      "See the caveats in the documentation: https://pandas.pydata.org/pandas-docs/stable/user_guide/indexing.html#returning-a-view-versus-a-copy\n",
      "  negative_reviews.loc[:, 'cluster'] = kmeans.labels_\n",
      "2023-08-05 12:07:03.324 | INFO     | __main__:<module>:87 - Saving Complaints Software...\n",
      "2023-08-05 12:07:03.395 | INFO     | __main__:<module>:101 - Savind Wordclouds Software...\n",
      "/tmp/ipykernel_16979/1170871101.py:108: RuntimeWarning: More than 20 figures have been opened. Figures created through the pyplot interface (`matplotlib.pyplot.figure`) are retained until explicitly closed and may consume too much memory. (To control this warning, see the rcParam `figure.max_open_warning`).\n",
      "  plt.figure(figsize=(10, 5))\n",
      "2023-08-05 12:07:10.039 | INFO     | __main__:<module>:120 - Saving Models Software...\n",
      "2023-08-05 12:07:10.078 | INFO     | __main__:<module>:40 - Loading Data category Amazon Fashion...\n",
      "/tmp/ipykernel_16979/1170871101.py:41: UserWarning: pandas only supports SQLAlchemy connectable (engine/connection) or database string URI or sqlite3 DBAPI2 connection. Other DBAPI2 objects are not tested. Please consider using SQLAlchemy.\n",
      "  reviews = pd.read_sql_query(query, conn)\n",
      "2023-08-05 12:07:25.472 | INFO     | __main__:<module>:57 - Training Classifier Model Amazon Fashion...\n",
      "2023-08-05 12:07:41.921 | INFO     | __main__:<module>:70 - Creating Clusters for Amazon Fashion...\n",
      "/tmp/ipykernel_16979/1170871101.py:85: SettingWithCopyWarning: \n",
      "A value is trying to be set on a copy of a slice from a DataFrame.\n",
      "Try using .loc[row_indexer,col_indexer] = value instead\n",
      "\n",
      "See the caveats in the documentation: https://pandas.pydata.org/pandas-docs/stable/user_guide/indexing.html#returning-a-view-versus-a-copy\n",
      "  negative_reviews.loc[:, 'cluster'] = kmeans.labels_\n",
      "2023-08-05 12:10:56.005 | INFO     | __main__:<module>:87 - Saving Complaints Amazon Fashion...\n",
      "2023-08-05 12:10:56.153 | INFO     | __main__:<module>:101 - Savind Wordclouds Amazon Fashion...\n",
      "2023-08-05 12:11:04.400 | INFO     | __main__:<module>:120 - Saving Models Amazon Fashion...\n",
      "2023-08-05 12:11:04.471 | INFO     | __main__:<module>:40 - Loading Data category Collectible Coins...\n",
      "/tmp/ipykernel_16979/1170871101.py:41: UserWarning: pandas only supports SQLAlchemy connectable (engine/connection) or database string URI or sqlite3 DBAPI2 connection. Other DBAPI2 objects are not tested. Please consider using SQLAlchemy.\n",
      "  reviews = pd.read_sql_query(query, conn)\n",
      "2023-08-05 12:11:05.460 | INFO     | __main__:<module>:40 - Loading Data category Computers...\n"
     ]
    },
    {
     "name": "stdout",
     "output_type": "stream",
     "text": [
      "Size for category 'Collectible Coins' is 100\n"
     ]
    },
    {
     "name": "stderr",
     "output_type": "stream",
     "text": [
      "2023-08-05 12:11:10.139 | INFO     | __main__:<module>:57 - Training Classifier Model Computers...\n",
      "2023-08-05 12:11:11.168 | INFO     | __main__:<module>:70 - Creating Clusters for Computers...\n",
      "/tmp/ipykernel_16979/1170871101.py:85: SettingWithCopyWarning: \n",
      "A value is trying to be set on a copy of a slice from a DataFrame.\n",
      "Try using .loc[row_indexer,col_indexer] = value instead\n",
      "\n",
      "See the caveats in the documentation: https://pandas.pydata.org/pandas-docs/stable/user_guide/indexing.html#returning-a-view-versus-a-copy\n",
      "  negative_reviews.loc[:, 'cluster'] = kmeans.labels_\n",
      "2023-08-05 12:11:27.477 | INFO     | __main__:<module>:87 - Saving Complaints Computers...\n",
      "2023-08-05 12:11:27.553 | INFO     | __main__:<module>:101 - Savind Wordclouds Computers...\n",
      "2023-08-05 12:11:32.289 | INFO     | __main__:<module>:120 - Saving Models Computers...\n",
      "2023-08-05 12:11:32.333 | INFO     | __main__:<module>:40 - Loading Data category Cell Phones & Accessories...\n",
      "/tmp/ipykernel_16979/1170871101.py:41: UserWarning: pandas only supports SQLAlchemy connectable (engine/connection) or database string URI or sqlite3 DBAPI2 connection. Other DBAPI2 objects are not tested. Please consider using SQLAlchemy.\n",
      "  reviews = pd.read_sql_query(query, conn)\n",
      "2023-08-05 12:11:40.623 | INFO     | __main__:<module>:57 - Training Classifier Model Cell Phones & Accessories...\n",
      "2023-08-05 12:11:44.994 | INFO     | __main__:<module>:70 - Creating Clusters for Cell Phones & Accessories...\n",
      "/tmp/ipykernel_16979/1170871101.py:85: SettingWithCopyWarning: \n",
      "A value is trying to be set on a copy of a slice from a DataFrame.\n",
      "Try using .loc[row_indexer,col_indexer] = value instead\n",
      "\n",
      "See the caveats in the documentation: https://pandas.pydata.org/pandas-docs/stable/user_guide/indexing.html#returning-a-view-versus-a-copy\n",
      "  negative_reviews.loc[:, 'cluster'] = kmeans.labels_\n",
      "2023-08-05 12:12:21.623 | INFO     | __main__:<module>:87 - Saving Complaints Cell Phones & Accessories...\n",
      "2023-08-05 12:12:21.698 | INFO     | __main__:<module>:101 - Savind Wordclouds Cell Phones & Accessories...\n",
      "2023-08-05 12:12:28.548 | INFO     | __main__:<module>:120 - Saving Models Cell Phones & Accessories...\n",
      "2023-08-05 12:12:28.598 | INFO     | __main__:<module>:40 - Loading Data category Gift Cards...\n",
      "/tmp/ipykernel_16979/1170871101.py:41: UserWarning: pandas only supports SQLAlchemy connectable (engine/connection) or database string URI or sqlite3 DBAPI2 connection. Other DBAPI2 objects are not tested. Please consider using SQLAlchemy.\n",
      "  reviews = pd.read_sql_query(query, conn)\n",
      "2023-08-05 12:12:28.851 | INFO     | __main__:<module>:40 - Loading Data category Vehicles...\n"
     ]
    },
    {
     "name": "stdout",
     "output_type": "stream",
     "text": [
      "Size for category 'Gift Cards' is 100\n"
     ]
    },
    {
     "name": "stderr",
     "output_type": "stream",
     "text": [
      "/tmp/ipykernel_16979/1170871101.py:41: UserWarning: pandas only supports SQLAlchemy connectable (engine/connection) or database string URI or sqlite3 DBAPI2 connection. Other DBAPI2 objects are not tested. Please consider using SQLAlchemy.\n",
      "  reviews = pd.read_sql_query(query, conn)\n",
      "2023-08-05 12:12:29.083 | INFO     | __main__:<module>:40 - Loading Data category Fine Art...\n"
     ]
    },
    {
     "name": "stdout",
     "output_type": "stream",
     "text": [
      "Size for category 'Vehicles' is 100\n"
     ]
    },
    {
     "name": "stderr",
     "output_type": "stream",
     "text": [
      "/tmp/ipykernel_16979/1170871101.py:41: UserWarning: pandas only supports SQLAlchemy connectable (engine/connection) or database string URI or sqlite3 DBAPI2 connection. Other DBAPI2 objects are not tested. Please consider using SQLAlchemy.\n",
      "  reviews = pd.read_sql_query(query, conn)\n",
      "2023-08-05 12:12:29.359 | INFO     | __main__:<module>:40 - Loading Data category Pet Supplies...\n"
     ]
    },
    {
     "name": "stdout",
     "output_type": "stream",
     "text": [
      "Size for category 'Fine Art' is 100\n"
     ]
    },
    {
     "name": "stderr",
     "output_type": "stream",
     "text": [
      "/tmp/ipykernel_16979/1170871101.py:41: UserWarning: pandas only supports SQLAlchemy connectable (engine/connection) or database string URI or sqlite3 DBAPI2 connection. Other DBAPI2 objects are not tested. Please consider using SQLAlchemy.\n",
      "  reviews = pd.read_sql_query(query, conn)\n",
      "2023-08-05 12:12:33.107 | INFO     | __main__:<module>:57 - Training Classifier Model Pet Supplies...\n",
      "2023-08-05 12:12:33.995 | INFO     | __main__:<module>:70 - Creating Clusters for Pet Supplies...\n",
      "/tmp/ipykernel_16979/1170871101.py:85: SettingWithCopyWarning: \n",
      "A value is trying to be set on a copy of a slice from a DataFrame.\n",
      "Try using .loc[row_indexer,col_indexer] = value instead\n",
      "\n",
      "See the caveats in the documentation: https://pandas.pydata.org/pandas-docs/stable/user_guide/indexing.html#returning-a-view-versus-a-copy\n",
      "  negative_reviews.loc[:, 'cluster'] = kmeans.labels_\n",
      "2023-08-05 12:12:48.355 | INFO     | __main__:<module>:87 - Saving Complaints Pet Supplies...\n",
      "2023-08-05 12:12:48.440 | INFO     | __main__:<module>:101 - Savind Wordclouds Pet Supplies...\n",
      "2023-08-05 12:12:54.761 | INFO     | __main__:<module>:120 - Saving Models Pet Supplies...\n",
      "2023-08-05 12:12:54.797 | INFO     | __main__:<module>:40 - Loading Data category Arts, Crafts & Sewing...\n",
      "/tmp/ipykernel_16979/1170871101.py:41: UserWarning: pandas only supports SQLAlchemy connectable (engine/connection) or database string URI or sqlite3 DBAPI2 connection. Other DBAPI2 objects are not tested. Please consider using SQLAlchemy.\n",
      "  reviews = pd.read_sql_query(query, conn)\n",
      "2023-08-05 12:13:01.477 | INFO     | __main__:<module>:57 - Training Classifier Model Arts, Crafts & Sewing...\n",
      "2023-08-05 12:13:03.089 | INFO     | __main__:<module>:70 - Creating Clusters for Arts, Crafts & Sewing...\n",
      "/tmp/ipykernel_16979/1170871101.py:85: SettingWithCopyWarning: \n",
      "A value is trying to be set on a copy of a slice from a DataFrame.\n",
      "Try using .loc[row_indexer,col_indexer] = value instead\n",
      "\n",
      "See the caveats in the documentation: https://pandas.pydata.org/pandas-docs/stable/user_guide/indexing.html#returning-a-view-versus-a-copy\n",
      "  negative_reviews.loc[:, 'cluster'] = kmeans.labels_\n",
      "2023-08-05 12:13:32.949 | INFO     | __main__:<module>:87 - Saving Complaints Arts, Crafts & Sewing...\n",
      "2023-08-05 12:13:33.023 | INFO     | __main__:<module>:101 - Savind Wordclouds Arts, Crafts & Sewing...\n",
      "2023-08-05 12:13:39.987 | INFO     | __main__:<module>:120 - Saving Models Arts, Crafts & Sewing...\n",
      "2023-08-05 12:13:40.032 | INFO     | __main__:<module>:40 - Loading Data category Amazon Launchpad...\n",
      "/tmp/ipykernel_16979/1170871101.py:41: UserWarning: pandas only supports SQLAlchemy connectable (engine/connection) or database string URI or sqlite3 DBAPI2 connection. Other DBAPI2 objects are not tested. Please consider using SQLAlchemy.\n",
      "  reviews = pd.read_sql_query(query, conn)\n",
      "2023-08-05 12:13:40.257 | INFO     | __main__:<module>:40 - Loading Data category Books...\n"
     ]
    },
    {
     "name": "stdout",
     "output_type": "stream",
     "text": [
      "Size for category 'Amazon Launchpad' is 100\n"
     ]
    },
    {
     "name": "stderr",
     "output_type": "stream",
     "text": [
      "/tmp/ipykernel_16979/1170871101.py:41: UserWarning: pandas only supports SQLAlchemy connectable (engine/connection) or database string URI or sqlite3 DBAPI2 connection. Other DBAPI2 objects are not tested. Please consider using SQLAlchemy.\n",
      "  reviews = pd.read_sql_query(query, conn)\n",
      "2023-08-05 12:14:17.418 | INFO     | __main__:<module>:57 - Training Classifier Model Books...\n",
      "2023-08-05 12:17:48.371 | INFO     | __main__:<module>:70 - Creating Clusters for Books...\n",
      "/tmp/ipykernel_16979/1170871101.py:85: SettingWithCopyWarning: \n",
      "A value is trying to be set on a copy of a slice from a DataFrame.\n",
      "Try using .loc[row_indexer,col_indexer] = value instead\n",
      "\n",
      "See the caveats in the documentation: https://pandas.pydata.org/pandas-docs/stable/user_guide/indexing.html#returning-a-view-versus-a-copy\n",
      "  negative_reviews.loc[:, 'cluster'] = kmeans.labels_\n",
      "2023-08-05 12:26:04.011 | INFO     | __main__:<module>:87 - Saving Complaints Books...\n",
      "2023-08-05 12:26:04.285 | INFO     | __main__:<module>:101 - Savind Wordclouds Books...\n",
      "2023-08-05 12:26:18.658 | INFO     | __main__:<module>:120 - Saving Models Books...\n",
      "2023-08-05 12:26:18.974 | INFO     | __main__:<module>:40 - Loading Data category Automotive...\n",
      "/tmp/ipykernel_16979/1170871101.py:41: UserWarning: pandas only supports SQLAlchemy connectable (engine/connection) or database string URI or sqlite3 DBAPI2 connection. Other DBAPI2 objects are not tested. Please consider using SQLAlchemy.\n",
      "  reviews = pd.read_sql_query(query, conn)\n",
      "2023-08-05 12:26:36.775 | INFO     | __main__:<module>:57 - Training Classifier Model Automotive...\n",
      "2023-08-05 12:27:01.513 | INFO     | __main__:<module>:70 - Creating Clusters for Automotive...\n",
      "/tmp/ipykernel_16979/1170871101.py:85: SettingWithCopyWarning: \n",
      "A value is trying to be set on a copy of a slice from a DataFrame.\n",
      "Try using .loc[row_indexer,col_indexer] = value instead\n",
      "\n",
      "See the caveats in the documentation: https://pandas.pydata.org/pandas-docs/stable/user_guide/indexing.html#returning-a-view-versus-a-copy\n",
      "  negative_reviews.loc[:, 'cluster'] = kmeans.labels_\n",
      "2023-08-05 12:31:00.642 | INFO     | __main__:<module>:87 - Saving Complaints Automotive...\n",
      "2023-08-05 12:31:00.889 | INFO     | __main__:<module>:101 - Savind Wordclouds Automotive...\n",
      "2023-08-05 12:31:09.431 | INFO     | __main__:<module>:120 - Saving Models Automotive...\n",
      "2023-08-05 12:31:09.513 | INFO     | __main__:<module>:40 - Loading Data category All Electronics...\n",
      "/tmp/ipykernel_16979/1170871101.py:41: UserWarning: pandas only supports SQLAlchemy connectable (engine/connection) or database string URI or sqlite3 DBAPI2 connection. Other DBAPI2 objects are not tested. Please consider using SQLAlchemy.\n",
      "  reviews = pd.read_sql_query(query, conn)\n",
      "2023-08-05 12:31:16.906 | INFO     | __main__:<module>:57 - Training Classifier Model All Electronics...\n",
      "2023-08-05 12:31:20.654 | INFO     | __main__:<module>:70 - Creating Clusters for All Electronics...\n",
      "/tmp/ipykernel_16979/1170871101.py:85: SettingWithCopyWarning: \n",
      "A value is trying to be set on a copy of a slice from a DataFrame.\n",
      "Try using .loc[row_indexer,col_indexer] = value instead\n",
      "\n",
      "See the caveats in the documentation: https://pandas.pydata.org/pandas-docs/stable/user_guide/indexing.html#returning-a-view-versus-a-copy\n",
      "  negative_reviews.loc[:, 'cluster'] = kmeans.labels_\n",
      "2023-08-05 12:31:43.290 | INFO     | __main__:<module>:87 - Saving Complaints All Electronics...\n",
      "2023-08-05 12:31:43.360 | INFO     | __main__:<module>:101 - Savind Wordclouds All Electronics...\n",
      "2023-08-05 12:31:48.980 | INFO     | __main__:<module>:120 - Saving Models All Electronics...\n",
      "2023-08-05 12:31:49.033 | INFO     | __main__:<module>:40 - Loading Data category Office Products...\n",
      "/tmp/ipykernel_16979/1170871101.py:41: UserWarning: pandas only supports SQLAlchemy connectable (engine/connection) or database string URI or sqlite3 DBAPI2 connection. Other DBAPI2 objects are not tested. Please consider using SQLAlchemy.\n",
      "  reviews = pd.read_sql_query(query, conn)\n",
      "2023-08-05 12:31:55.906 | INFO     | __main__:<module>:57 - Training Classifier Model Office Products...\n",
      "2023-08-05 12:31:58.724 | INFO     | __main__:<module>:70 - Creating Clusters for Office Products...\n",
      "/tmp/ipykernel_16979/1170871101.py:85: SettingWithCopyWarning: \n",
      "A value is trying to be set on a copy of a slice from a DataFrame.\n",
      "Try using .loc[row_indexer,col_indexer] = value instead\n",
      "\n",
      "See the caveats in the documentation: https://pandas.pydata.org/pandas-docs/stable/user_guide/indexing.html#returning-a-view-versus-a-copy\n",
      "  negative_reviews.loc[:, 'cluster'] = kmeans.labels_\n",
      "2023-08-05 12:32:31.745 | INFO     | __main__:<module>:87 - Saving Complaints Office Products...\n",
      "2023-08-05 12:32:31.816 | INFO     | __main__:<module>:101 - Savind Wordclouds Office Products...\n",
      "2023-08-05 12:32:39.516 | INFO     | __main__:<module>:120 - Saving Models Office Products...\n",
      "2023-08-05 12:32:39.569 | INFO     | __main__:<module>:40 - Loading Data category Home Audio & Theater...\n",
      "/tmp/ipykernel_16979/1170871101.py:41: UserWarning: pandas only supports SQLAlchemy connectable (engine/connection) or database string URI or sqlite3 DBAPI2 connection. Other DBAPI2 objects are not tested. Please consider using SQLAlchemy.\n",
      "  reviews = pd.read_sql_query(query, conn)\n",
      "2023-08-05 12:32:43.259 | INFO     | __main__:<module>:57 - Training Classifier Model Home Audio & Theater...\n",
      "2023-08-05 12:32:44.073 | INFO     | __main__:<module>:70 - Creating Clusters for Home Audio & Theater...\n",
      "/tmp/ipykernel_16979/1170871101.py:85: SettingWithCopyWarning: \n",
      "A value is trying to be set on a copy of a slice from a DataFrame.\n",
      "Try using .loc[row_indexer,col_indexer] = value instead\n",
      "\n",
      "See the caveats in the documentation: https://pandas.pydata.org/pandas-docs/stable/user_guide/indexing.html#returning-a-view-versus-a-copy\n",
      "  negative_reviews.loc[:, 'cluster'] = kmeans.labels_\n",
      "2023-08-05 12:32:55.629 | INFO     | __main__:<module>:87 - Saving Complaints Home Audio & Theater...\n",
      "2023-08-05 12:32:55.764 | INFO     | __main__:<module>:101 - Savind Wordclouds Home Audio & Theater...\n",
      "2023-08-05 12:33:01.859 | INFO     | __main__:<module>:120 - Saving Models Home Audio & Theater...\n",
      "2023-08-05 12:33:01.900 | INFO     | __main__:<module>:40 - Loading Data category Tools & Home Improvement...\n",
      "/tmp/ipykernel_16979/1170871101.py:41: UserWarning: pandas only supports SQLAlchemy connectable (engine/connection) or database string URI or sqlite3 DBAPI2 connection. Other DBAPI2 objects are not tested. Please consider using SQLAlchemy.\n",
      "  reviews = pd.read_sql_query(query, conn)\n",
      "2023-08-05 12:33:10.247 | INFO     | __main__:<module>:57 - Training Classifier Model Tools & Home Improvement...\n",
      "2023-08-05 12:33:16.281 | INFO     | __main__:<module>:70 - Creating Clusters for Tools & Home Improvement...\n",
      "/tmp/ipykernel_16979/1170871101.py:85: SettingWithCopyWarning: \n",
      "A value is trying to be set on a copy of a slice from a DataFrame.\n",
      "Try using .loc[row_indexer,col_indexer] = value instead\n",
      "\n",
      "See the caveats in the documentation: https://pandas.pydata.org/pandas-docs/stable/user_guide/indexing.html#returning-a-view-versus-a-copy\n",
      "  negative_reviews.loc[:, 'cluster'] = kmeans.labels_\n",
      "2023-08-05 12:34:07.005 | INFO     | __main__:<module>:87 - Saving Complaints Tools & Home Improvement...\n",
      "2023-08-05 12:34:07.090 | INFO     | __main__:<module>:101 - Savind Wordclouds Tools & Home Improvement...\n",
      "2023-08-05 12:34:15.243 | INFO     | __main__:<module>:120 - Saving Models Tools & Home Improvement...\n",
      "2023-08-05 12:34:15.312 | INFO     | __main__:<module>:40 - Loading Data category Baby...\n",
      "/tmp/ipykernel_16979/1170871101.py:41: UserWarning: pandas only supports SQLAlchemy connectable (engine/connection) or database string URI or sqlite3 DBAPI2 connection. Other DBAPI2 objects are not tested. Please consider using SQLAlchemy.\n",
      "  reviews = pd.read_sql_query(query, conn)\n",
      "2023-08-05 12:34:17.184 | INFO     | __main__:<module>:57 - Training Classifier Model Baby...\n",
      "2023-08-05 12:34:17.256 | INFO     | __main__:<module>:70 - Creating Clusters for Baby...\n",
      "/tmp/ipykernel_16979/1170871101.py:85: SettingWithCopyWarning: \n",
      "A value is trying to be set on a copy of a slice from a DataFrame.\n",
      "Try using .loc[row_indexer,col_indexer] = value instead\n",
      "\n",
      "See the caveats in the documentation: https://pandas.pydata.org/pandas-docs/stable/user_guide/indexing.html#returning-a-view-versus-a-copy\n",
      "  negative_reviews.loc[:, 'cluster'] = kmeans.labels_\n",
      "2023-08-05 12:34:20.876 | INFO     | __main__:<module>:87 - Saving Complaints Baby...\n",
      "2023-08-05 12:34:20.954 | INFO     | __main__:<module>:101 - Savind Wordclouds Baby...\n",
      "2023-08-05 12:34:27.505 | INFO     | __main__:<module>:120 - Saving Models Baby...\n",
      "2023-08-05 12:34:27.525 | INFO     | __main__:<module>:40 - Loading Data category Gps & Navigation...\n",
      "/tmp/ipykernel_16979/1170871101.py:41: UserWarning: pandas only supports SQLAlchemy connectable (engine/connection) or database string URI or sqlite3 DBAPI2 connection. Other DBAPI2 objects are not tested. Please consider using SQLAlchemy.\n",
      "  reviews = pd.read_sql_query(query, conn)\n",
      "2023-08-05 12:34:28.210 | INFO     | __main__:<module>:57 - Training Classifier Model Gps & Navigation...\n",
      "2023-08-05 12:34:28.226 | INFO     | __main__:<module>:70 - Creating Clusters for Gps & Navigation...\n",
      "/tmp/ipykernel_16979/1170871101.py:85: SettingWithCopyWarning: \n",
      "A value is trying to be set on a copy of a slice from a DataFrame.\n",
      "Try using .loc[row_indexer,col_indexer] = value instead\n",
      "\n",
      "See the caveats in the documentation: https://pandas.pydata.org/pandas-docs/stable/user_guide/indexing.html#returning-a-view-versus-a-copy\n",
      "  negative_reviews.loc[:, 'cluster'] = kmeans.labels_\n",
      "2023-08-05 12:34:29.711 | INFO     | __main__:<module>:87 - Saving Complaints Gps & Navigation...\n",
      "2023-08-05 12:34:29.796 | INFO     | __main__:<module>:101 - Savind Wordclouds Gps & Navigation...\n",
      "2023-08-05 12:34:36.481 | INFO     | __main__:<module>:120 - Saving Models Gps & Navigation...\n",
      "2023-08-05 12:34:36.491 | INFO     | __main__:<module>:40 - Loading Data category Shorts...\n",
      "/tmp/ipykernel_16979/1170871101.py:41: UserWarning: pandas only supports SQLAlchemy connectable (engine/connection) or database string URI or sqlite3 DBAPI2 connection. Other DBAPI2 objects are not tested. Please consider using SQLAlchemy.\n",
      "  reviews = pd.read_sql_query(query, conn)\n",
      "2023-08-05 12:34:36.720 | INFO     | __main__:<module>:40 - Loading Data category Toys & Games...\n"
     ]
    },
    {
     "name": "stdout",
     "output_type": "stream",
     "text": [
      "Size for category 'Shorts' is 100\n"
     ]
    },
    {
     "name": "stderr",
     "output_type": "stream",
     "text": [
      "/tmp/ipykernel_16979/1170871101.py:41: UserWarning: pandas only supports SQLAlchemy connectable (engine/connection) or database string URI or sqlite3 DBAPI2 connection. Other DBAPI2 objects are not tested. Please consider using SQLAlchemy.\n",
      "  reviews = pd.read_sql_query(query, conn)\n",
      "2023-08-05 12:34:47.879 | INFO     | __main__:<module>:57 - Training Classifier Model Toys & Games...\n",
      "2023-08-05 12:34:57.107 | INFO     | __main__:<module>:70 - Creating Clusters for Toys & Games...\n",
      "/tmp/ipykernel_16979/1170871101.py:85: SettingWithCopyWarning: \n",
      "A value is trying to be set on a copy of a slice from a DataFrame.\n",
      "Try using .loc[row_indexer,col_indexer] = value instead\n",
      "\n",
      "See the caveats in the documentation: https://pandas.pydata.org/pandas-docs/stable/user_guide/indexing.html#returning-a-view-versus-a-copy\n",
      "  negative_reviews.loc[:, 'cluster'] = kmeans.labels_\n",
      "2023-08-05 12:36:04.102 | INFO     | __main__:<module>:87 - Saving Complaints Toys & Games...\n",
      "2023-08-05 12:36:04.208 | INFO     | __main__:<module>:101 - Savind Wordclouds Toys & Games...\n",
      "2023-08-05 12:36:11.614 | INFO     | __main__:<module>:120 - Saving Models Toys & Games...\n",
      "2023-08-05 12:36:11.684 | INFO     | __main__:<module>:40 - Loading Data category Video Games...\n",
      "/tmp/ipykernel_16979/1170871101.py:41: UserWarning: pandas only supports SQLAlchemy connectable (engine/connection) or database string URI or sqlite3 DBAPI2 connection. Other DBAPI2 objects are not tested. Please consider using SQLAlchemy.\n",
      "  reviews = pd.read_sql_query(query, conn)\n",
      "2023-08-05 12:36:13.970 | INFO     | __main__:<module>:57 - Training Classifier Model Video Games...\n",
      "2023-08-05 12:36:14.161 | INFO     | __main__:<module>:70 - Creating Clusters for Video Games...\n",
      "/tmp/ipykernel_16979/1170871101.py:85: SettingWithCopyWarning: \n",
      "A value is trying to be set on a copy of a slice from a DataFrame.\n",
      "Try using .loc[row_indexer,col_indexer] = value instead\n",
      "\n",
      "See the caveats in the documentation: https://pandas.pydata.org/pandas-docs/stable/user_guide/indexing.html#returning-a-view-versus-a-copy\n",
      "  negative_reviews.loc[:, 'cluster'] = kmeans.labels_\n",
      "2023-08-05 12:36:18.526 | INFO     | __main__:<module>:87 - Saving Complaints Video Games...\n",
      "2023-08-05 12:36:18.584 | INFO     | __main__:<module>:101 - Savind Wordclouds Video Games...\n",
      "2023-08-05 12:36:24.172 | INFO     | __main__:<module>:120 - Saving Models Video Games...\n",
      "2023-08-05 12:36:24.197 | INFO     | __main__:<module>:40 - Loading Data category Camera & Photo...\n",
      "/tmp/ipykernel_16979/1170871101.py:41: UserWarning: pandas only supports SQLAlchemy connectable (engine/connection) or database string URI or sqlite3 DBAPI2 connection. Other DBAPI2 objects are not tested. Please consider using SQLAlchemy.\n",
      "  reviews = pd.read_sql_query(query, conn)\n",
      "2023-08-05 12:36:27.735 | INFO     | __main__:<module>:57 - Training Classifier Model Camera & Photo...\n",
      "2023-08-05 12:36:28.392 | INFO     | __main__:<module>:70 - Creating Clusters for Camera & Photo...\n",
      "/tmp/ipykernel_16979/1170871101.py:85: SettingWithCopyWarning: \n",
      "A value is trying to be set on a copy of a slice from a DataFrame.\n",
      "Try using .loc[row_indexer,col_indexer] = value instead\n",
      "\n",
      "See the caveats in the documentation: https://pandas.pydata.org/pandas-docs/stable/user_guide/indexing.html#returning-a-view-versus-a-copy\n",
      "  negative_reviews.loc[:, 'cluster'] = kmeans.labels_\n",
      "2023-08-05 12:36:38.160 | INFO     | __main__:<module>:87 - Saving Complaints Camera & Photo...\n",
      "2023-08-05 12:36:38.247 | INFO     | __main__:<module>:101 - Savind Wordclouds Camera & Photo...\n",
      "2023-08-05 12:36:44.383 | INFO     | __main__:<module>:120 - Saving Models Camera & Photo...\n",
      "2023-08-05 12:36:44.420 | INFO     | __main__:<module>:40 - Loading Data category Musical Instruments...\n",
      "/tmp/ipykernel_16979/1170871101.py:41: UserWarning: pandas only supports SQLAlchemy connectable (engine/connection) or database string URI or sqlite3 DBAPI2 connection. Other DBAPI2 objects are not tested. Please consider using SQLAlchemy.\n",
      "  reviews = pd.read_sql_query(query, conn)\n",
      "2023-08-05 12:36:46.614 | INFO     | __main__:<module>:57 - Training Classifier Model Musical Instruments...\n",
      "2023-08-05 12:36:46.778 | INFO     | __main__:<module>:70 - Creating Clusters for Musical Instruments...\n",
      "/tmp/ipykernel_16979/1170871101.py:85: SettingWithCopyWarning: \n",
      "A value is trying to be set on a copy of a slice from a DataFrame.\n",
      "Try using .loc[row_indexer,col_indexer] = value instead\n",
      "\n",
      "See the caveats in the documentation: https://pandas.pydata.org/pandas-docs/stable/user_guide/indexing.html#returning-a-view-versus-a-copy\n",
      "  negative_reviews.loc[:, 'cluster'] = kmeans.labels_\n",
      "2023-08-05 12:36:52.629 | INFO     | __main__:<module>:87 - Saving Complaints Musical Instruments...\n",
      "2023-08-05 12:36:52.740 | INFO     | __main__:<module>:101 - Savind Wordclouds Musical Instruments...\n",
      "2023-08-05 12:36:58.907 | INFO     | __main__:<module>:120 - Saving Models Musical Instruments...\n",
      "2023-08-05 12:36:58.934 | INFO     | __main__:<module>:40 - Loading Data category Prime Pantry...\n",
      "/tmp/ipykernel_16979/1170871101.py:41: UserWarning: pandas only supports SQLAlchemy connectable (engine/connection) or database string URI or sqlite3 DBAPI2 connection. Other DBAPI2 objects are not tested. Please consider using SQLAlchemy.\n",
      "  reviews = pd.read_sql_query(query, conn)\n",
      "2023-08-05 12:36:59.155 | INFO     | __main__:<module>:40 - Loading Data category Sports & Outdoors...\n"
     ]
    },
    {
     "name": "stdout",
     "output_type": "stream",
     "text": [
      "Size for category 'Prime Pantry' is 100\n"
     ]
    },
    {
     "name": "stderr",
     "output_type": "stream",
     "text": [
      "2023-08-05 12:37:07.217 | INFO     | __main__:<module>:57 - Training Classifier Model Sports & Outdoors...\n",
      "2023-08-05 12:37:12.252 | INFO     | __main__:<module>:70 - Creating Clusters for Sports & Outdoors...\n",
      "/tmp/ipykernel_16979/1170871101.py:85: SettingWithCopyWarning: \n",
      "A value is trying to be set on a copy of a slice from a DataFrame.\n",
      "Try using .loc[row_indexer,col_indexer] = value instead\n",
      "\n",
      "See the caveats in the documentation: https://pandas.pydata.org/pandas-docs/stable/user_guide/indexing.html#returning-a-view-versus-a-copy\n",
      "  negative_reviews.loc[:, 'cluster'] = kmeans.labels_\n",
      "2023-08-05 12:37:52.154 | INFO     | __main__:<module>:87 - Saving Complaints Sports & Outdoors...\n",
      "2023-08-05 12:37:52.238 | INFO     | __main__:<module>:101 - Savind Wordclouds Sports & Outdoors...\n",
      "2023-08-05 12:37:59.197 | INFO     | __main__:<module>:120 - Saving Models Sports & Outdoors...\n",
      "2023-08-05 12:37:59.260 | INFO     | __main__:<module>:40 - Loading Data category Digital Music...\n",
      "/tmp/ipykernel_16979/1170871101.py:41: UserWarning: pandas only supports SQLAlchemy connectable (engine/connection) or database string URI or sqlite3 DBAPI2 connection. Other DBAPI2 objects are not tested. Please consider using SQLAlchemy.\n",
      "  reviews = pd.read_sql_query(query, conn)\n",
      "2023-08-05 12:38:05.310 | INFO     | __main__:<module>:57 - Training Classifier Model Digital Music...\n",
      "2023-08-05 12:38:08.091 | INFO     | __main__:<module>:70 - Creating Clusters for Digital Music...\n",
      "/tmp/ipykernel_16979/1170871101.py:85: SettingWithCopyWarning: \n",
      "A value is trying to be set on a copy of a slice from a DataFrame.\n",
      "Try using .loc[row_indexer,col_indexer] = value instead\n",
      "\n",
      "See the caveats in the documentation: https://pandas.pydata.org/pandas-docs/stable/user_guide/indexing.html#returning-a-view-versus-a-copy\n",
      "  negative_reviews.loc[:, 'cluster'] = kmeans.labels_\n",
      "2023-08-05 12:38:33.098 | INFO     | __main__:<module>:87 - Saving Complaints Digital Music...\n",
      "2023-08-05 12:38:33.167 | INFO     | __main__:<module>:101 - Savind Wordclouds Digital Music...\n",
      "2023-08-05 12:38:40.973 | INFO     | __main__:<module>:120 - Saving Models Digital Music...\n",
      "2023-08-05 12:38:41.050 | INFO     | __main__:<module>:40 - Loading Data category All Beauty...\n",
      "/tmp/ipykernel_16979/1170871101.py:41: UserWarning: pandas only supports SQLAlchemy connectable (engine/connection) or database string URI or sqlite3 DBAPI2 connection. Other DBAPI2 objects are not tested. Please consider using SQLAlchemy.\n",
      "  reviews = pd.read_sql_query(query, conn)\n",
      "2023-08-05 12:38:43.051 | INFO     | __main__:<module>:57 - Training Classifier Model All Beauty...\n",
      "2023-08-05 12:38:43.133 | INFO     | __main__:<module>:70 - Creating Clusters for All Beauty...\n",
      "/tmp/ipykernel_16979/1170871101.py:85: SettingWithCopyWarning: \n",
      "A value is trying to be set on a copy of a slice from a DataFrame.\n",
      "Try using .loc[row_indexer,col_indexer] = value instead\n",
      "\n",
      "See the caveats in the documentation: https://pandas.pydata.org/pandas-docs/stable/user_guide/indexing.html#returning-a-view-versus-a-copy\n",
      "  negative_reviews.loc[:, 'cluster'] = kmeans.labels_\n",
      "2023-08-05 12:38:47.081 | INFO     | __main__:<module>:87 - Saving Complaints All Beauty...\n",
      "2023-08-05 12:38:47.125 | INFO     | __main__:<module>:101 - Savind Wordclouds All Beauty...\n",
      "2023-08-05 12:38:52.877 | INFO     | __main__:<module>:120 - Saving Models All Beauty...\n",
      "2023-08-05 12:38:52.895 | INFO     | __main__:<module>:40 - Loading Data category Fire Phone...\n",
      "/tmp/ipykernel_16979/1170871101.py:41: UserWarning: pandas only supports SQLAlchemy connectable (engine/connection) or database string URI or sqlite3 DBAPI2 connection. Other DBAPI2 objects are not tested. Please consider using SQLAlchemy.\n",
      "  reviews = pd.read_sql_query(query, conn)\n",
      "2023-08-05 12:38:53.132 | INFO     | __main__:<module>:40 - Loading Data category Memberships & Subscriptions...\n"
     ]
    },
    {
     "name": "stdout",
     "output_type": "stream",
     "text": [
      "Size for category 'Fire Phone' is 100\n"
     ]
    },
    {
     "name": "stderr",
     "output_type": "stream",
     "text": [
      "2023-08-05 12:38:53.396 | INFO     | __main__:<module>:40 - Loading Data category 3d Printing...\n"
     ]
    },
    {
     "name": "stdout",
     "output_type": "stream",
     "text": [
      "Size for category 'Memberships & Subscriptions' is 100\n"
     ]
    },
    {
     "name": "stderr",
     "output_type": "stream",
     "text": [
      "/tmp/ipykernel_16979/1170871101.py:41: UserWarning: pandas only supports SQLAlchemy connectable (engine/connection) or database string URI or sqlite3 DBAPI2 connection. Other DBAPI2 objects are not tested. Please consider using SQLAlchemy.\n",
      "  reviews = pd.read_sql_query(query, conn)\n",
      "2023-08-05 12:38:53.610 | INFO     | __main__:<module>:40 - Loading Data category Amazon Devices...\n"
     ]
    },
    {
     "name": "stdout",
     "output_type": "stream",
     "text": [
      "Size for category '3d Printing' is 100\n"
     ]
    },
    {
     "name": "stderr",
     "output_type": "stream",
     "text": [
      "/tmp/ipykernel_16979/1170871101.py:41: UserWarning: pandas only supports SQLAlchemy connectable (engine/connection) or database string URI or sqlite3 DBAPI2 connection. Other DBAPI2 objects are not tested. Please consider using SQLAlchemy.\n",
      "  reviews = pd.read_sql_query(query, conn)\n",
      "2023-08-05 12:38:53.845 | INFO     | __main__:<module>:40 - Loading Data category Luxury Beauty...\n"
     ]
    },
    {
     "name": "stdout",
     "output_type": "stream",
     "text": [
      "Size for category 'Amazon Devices' is 100\n"
     ]
    },
    {
     "name": "stderr",
     "output_type": "stream",
     "text": [
      "2023-08-05 12:38:54.449 | INFO     | __main__:<module>:57 - Training Classifier Model Luxury Beauty...\n",
      "2023-08-05 12:38:54.467 | INFO     | __main__:<module>:70 - Creating Clusters for Luxury Beauty...\n",
      "/tmp/ipykernel_16979/1170871101.py:85: SettingWithCopyWarning: \n",
      "A value is trying to be set on a copy of a slice from a DataFrame.\n",
      "Try using .loc[row_indexer,col_indexer] = value instead\n",
      "\n",
      "See the caveats in the documentation: https://pandas.pydata.org/pandas-docs/stable/user_guide/indexing.html#returning-a-view-versus-a-copy\n",
      "  negative_reviews.loc[:, 'cluster'] = kmeans.labels_\n",
      "2023-08-05 12:38:55.149 | INFO     | __main__:<module>:87 - Saving Complaints Luxury Beauty...\n",
      "2023-08-05 12:38:55.198 | INFO     | __main__:<module>:101 - Savind Wordclouds Luxury Beauty...\n",
      "2023-08-05 12:38:59.649 | INFO     | __main__:<module>:120 - Saving Models Luxury Beauty...\n",
      "2023-08-05 12:38:59.659 | INFO     | __main__:<module>:40 - Loading Data category Apple Products...\n",
      "/tmp/ipykernel_16979/1170871101.py:41: UserWarning: pandas only supports SQLAlchemy connectable (engine/connection) or database string URI or sqlite3 DBAPI2 connection. Other DBAPI2 objects are not tested. Please consider using SQLAlchemy.\n",
      "  reviews = pd.read_sql_query(query, conn)\n",
      "2023-08-05 12:38:59.883 | INFO     | __main__:<module>:40 - Loading Data category Health & Personal Care...\n"
     ]
    },
    {
     "name": "stdout",
     "output_type": "stream",
     "text": [
      "Size for category 'Apple Products' is 100\n"
     ]
    },
    {
     "name": "stderr",
     "output_type": "stream",
     "text": [
      "/tmp/ipykernel_16979/1170871101.py:41: UserWarning: pandas only supports SQLAlchemy connectable (engine/connection) or database string URI or sqlite3 DBAPI2 connection. Other DBAPI2 objects are not tested. Please consider using SQLAlchemy.\n",
      "  reviews = pd.read_sql_query(query, conn)\n",
      "2023-08-05 12:39:02.545 | INFO     | __main__:<module>:57 - Training Classifier Model Health & Personal Care...\n",
      "2023-08-05 12:39:03.025 | INFO     | __main__:<module>:70 - Creating Clusters for Health & Personal Care...\n",
      "/tmp/ipykernel_16979/1170871101.py:85: SettingWithCopyWarning: \n",
      "A value is trying to be set on a copy of a slice from a DataFrame.\n",
      "Try using .loc[row_indexer,col_indexer] = value instead\n",
      "\n",
      "See the caveats in the documentation: https://pandas.pydata.org/pandas-docs/stable/user_guide/indexing.html#returning-a-view-versus-a-copy\n",
      "  negative_reviews.loc[:, 'cluster'] = kmeans.labels_\n",
      "2023-08-05 12:39:13.629 | INFO     | __main__:<module>:87 - Saving Complaints Health & Personal Care...\n",
      "2023-08-05 12:39:13.707 | INFO     | __main__:<module>:101 - Savind Wordclouds Health & Personal Care...\n",
      "2023-08-05 12:39:19.142 | INFO     | __main__:<module>:120 - Saving Models Health & Personal Care...\n",
      "2023-08-05 12:39:19.171 | INFO     | __main__:<module>:40 - Loading Data category Grocery...\n",
      "/tmp/ipykernel_16979/1170871101.py:41: UserWarning: pandas only supports SQLAlchemy connectable (engine/connection) or database string URI or sqlite3 DBAPI2 connection. Other DBAPI2 objects are not tested. Please consider using SQLAlchemy.\n",
      "  reviews = pd.read_sql_query(query, conn)\n",
      "2023-08-05 12:39:23.383 | INFO     | __main__:<module>:57 - Training Classifier Model Grocery...\n",
      "2023-08-05 12:39:24.690 | INFO     | __main__:<module>:70 - Creating Clusters for Grocery...\n",
      "/tmp/ipykernel_16979/1170871101.py:85: SettingWithCopyWarning: \n",
      "A value is trying to be set on a copy of a slice from a DataFrame.\n",
      "Try using .loc[row_indexer,col_indexer] = value instead\n",
      "\n",
      "See the caveats in the documentation: https://pandas.pydata.org/pandas-docs/stable/user_guide/indexing.html#returning-a-view-versus-a-copy\n",
      "  negative_reviews.loc[:, 'cluster'] = kmeans.labels_\n",
      "2023-08-05 12:39:42.021 | INFO     | __main__:<module>:87 - Saving Complaints Grocery...\n",
      "2023-08-05 12:39:42.095 | INFO     | __main__:<module>:101 - Savind Wordclouds Grocery...\n",
      "2023-08-05 12:39:48.400 | INFO     | __main__:<module>:120 - Saving Models Grocery...\n",
      "2023-08-05 12:39:48.453 | INFO     | __main__:<module>:40 - Loading Data category Appliances...\n",
      "/tmp/ipykernel_16979/1170871101.py:41: UserWarning: pandas only supports SQLAlchemy connectable (engine/connection) or database string URI or sqlite3 DBAPI2 connection. Other DBAPI2 objects are not tested. Please consider using SQLAlchemy.\n",
      "  reviews = pd.read_sql_query(query, conn)\n",
      "2023-08-05 12:39:50.095 | INFO     | __main__:<module>:57 - Training Classifier Model Appliances...\n",
      "2023-08-05 12:39:50.115 | INFO     | __main__:<module>:70 - Creating Clusters for Appliances...\n",
      "/tmp/ipykernel_16979/1170871101.py:85: SettingWithCopyWarning: \n",
      "A value is trying to be set on a copy of a slice from a DataFrame.\n",
      "Try using .loc[row_indexer,col_indexer] = value instead\n",
      "\n",
      "See the caveats in the documentation: https://pandas.pydata.org/pandas-docs/stable/user_guide/indexing.html#returning-a-view-versus-a-copy\n",
      "  negative_reviews.loc[:, 'cluster'] = kmeans.labels_\n",
      "2023-08-05 12:39:50.926 | INFO     | __main__:<module>:87 - Saving Complaints Appliances...\n",
      "2023-08-05 12:39:51.011 | INFO     | __main__:<module>:101 - Savind Wordclouds Appliances...\n",
      "2023-08-05 12:39:57.099 | INFO     | __main__:<module>:120 - Saving Models Appliances...\n",
      "2023-08-05 12:39:57.113 | INFO     | __main__:<module>:40 - Loading Data category Amazon Home...\n",
      "/tmp/ipykernel_16979/1170871101.py:41: UserWarning: pandas only supports SQLAlchemy connectable (engine/connection) or database string URI or sqlite3 DBAPI2 connection. Other DBAPI2 objects are not tested. Please consider using SQLAlchemy.\n",
      "  reviews = pd.read_sql_query(query, conn)\n",
      "2023-08-05 12:40:16.573 | INFO     | __main__:<module>:57 - Training Classifier Model Amazon Home...\n",
      "2023-08-05 12:41:06.939 | INFO     | __main__:<module>:70 - Creating Clusters for Amazon Home...\n",
      "/tmp/ipykernel_16979/1170871101.py:85: SettingWithCopyWarning: \n",
      "A value is trying to be set on a copy of a slice from a DataFrame.\n",
      "Try using .loc[row_indexer,col_indexer] = value instead\n",
      "\n",
      "See the caveats in the documentation: https://pandas.pydata.org/pandas-docs/stable/user_guide/indexing.html#returning-a-view-versus-a-copy\n",
      "  negative_reviews.loc[:, 'cluster'] = kmeans.labels_\n",
      "2023-08-05 12:44:36.040 | INFO     | __main__:<module>:87 - Saving Complaints Amazon Home...\n",
      "2023-08-05 12:44:36.192 | INFO     | __main__:<module>:101 - Savind Wordclouds Amazon Home...\n",
      "2023-08-05 12:44:44.588 | INFO     | __main__:<module>:120 - Saving Models Amazon Home...\n",
      "2023-08-05 12:44:44.676 | INFO     | __main__:<module>:40 - Loading Data category Sports Collectibles...\n",
      "/tmp/ipykernel_16979/1170871101.py:41: UserWarning: pandas only supports SQLAlchemy connectable (engine/connection) or database string URI or sqlite3 DBAPI2 connection. Other DBAPI2 objects are not tested. Please consider using SQLAlchemy.\n",
      "  reviews = pd.read_sql_query(query, conn)\n",
      "2023-08-05 12:44:45.769 | INFO     | __main__:<module>:40 - Loading Data category Collectibles & Fine Art...\n"
     ]
    },
    {
     "name": "stdout",
     "output_type": "stream",
     "text": [
      "Size for category 'Sports Collectibles' is 100\n"
     ]
    },
    {
     "name": "stderr",
     "output_type": "stream",
     "text": [
      "2023-08-05 12:44:46.007 | INFO     | __main__:<module>:40 - Loading Data category Handmade...\n"
     ]
    },
    {
     "name": "stdout",
     "output_type": "stream",
     "text": [
      "Size for category 'Collectibles & Fine Art' is 100\n"
     ]
    },
    {
     "name": "stderr",
     "output_type": "stream",
     "text": [
      "2023-08-05 12:44:46.247 | INFO     | __main__:<module>:40 - Loading Data category Amazon Fire Tv...\n"
     ]
    },
    {
     "name": "stdout",
     "output_type": "stream",
     "text": [
      "Size for category 'Handmade' is 100\n"
     ]
    },
    {
     "name": "stderr",
     "output_type": "stream",
     "text": [
      "/tmp/ipykernel_16979/1170871101.py:41: UserWarning: pandas only supports SQLAlchemy connectable (engine/connection) or database string URI or sqlite3 DBAPI2 connection. Other DBAPI2 objects are not tested. Please consider using SQLAlchemy.\n",
      "  reviews = pd.read_sql_query(query, conn)\n",
      "2023-08-05 12:44:46.488 | INFO     | __main__:<module>:40 - Loading Data category Home & Business Services...\n"
     ]
    },
    {
     "name": "stdout",
     "output_type": "stream",
     "text": [
      "Size for category 'Amazon Fire Tv' is 100\n"
     ]
    },
    {
     "name": "stderr",
     "output_type": "stream",
     "text": [
      "/tmp/ipykernel_16979/1170871101.py:41: UserWarning: pandas only supports SQLAlchemy connectable (engine/connection) or database string URI or sqlite3 DBAPI2 connection. Other DBAPI2 objects are not tested. Please consider using SQLAlchemy.\n",
      "  reviews = pd.read_sql_query(query, conn)\n",
      "2023-08-05 12:44:46.716 | INFO     | __main__:<module>:40 - Loading Data category Magazine Subscriptions...\n"
     ]
    },
    {
     "name": "stdout",
     "output_type": "stream",
     "text": [
      "Size for category 'Home & Business Services' is 100\n"
     ]
    },
    {
     "name": "stderr",
     "output_type": "stream",
     "text": [
      "2023-08-05 12:44:46.946 | INFO     | __main__:<module>:40 - Loading Data category Industrial & Scientific...\n"
     ]
    },
    {
     "name": "stdout",
     "output_type": "stream",
     "text": [
      "Size for category 'Magazine Subscriptions' is 100\n"
     ]
    },
    {
     "name": "stderr",
     "output_type": "stream",
     "text": [
      "/tmp/ipykernel_16979/1170871101.py:41: UserWarning: pandas only supports SQLAlchemy connectable (engine/connection) or database string URI or sqlite3 DBAPI2 connection. Other DBAPI2 objects are not tested. Please consider using SQLAlchemy.\n",
      "  reviews = pd.read_sql_query(query, conn)\n",
      "2023-08-05 12:44:51.684 | INFO     | __main__:<module>:57 - Training Classifier Model Industrial & Scientific...\n",
      "2023-08-05 12:44:52.767 | INFO     | __main__:<module>:70 - Creating Clusters for Industrial & Scientific...\n",
      "/tmp/ipykernel_16979/1170871101.py:85: SettingWithCopyWarning: \n",
      "A value is trying to be set on a copy of a slice from a DataFrame.\n",
      "Try using .loc[row_indexer,col_indexer] = value instead\n",
      "\n",
      "See the caveats in the documentation: https://pandas.pydata.org/pandas-docs/stable/user_guide/indexing.html#returning-a-view-versus-a-copy\n",
      "  negative_reviews.loc[:, 'cluster'] = kmeans.labels_\n",
      "2023-08-05 12:45:09.979 | INFO     | __main__:<module>:87 - Saving Complaints Industrial & Scientific...\n",
      "2023-08-05 12:45:10.055 | INFO     | __main__:<module>:101 - Savind Wordclouds Industrial & Scientific...\n",
      "2023-08-05 12:45:16.817 | INFO     | __main__:<module>:120 - Saving Models Industrial & Scientific...\n",
      "2023-08-05 12:45:16.858 | INFO     | __main__:<module>:40 - Loading Data category Car Electronics...\n",
      "/tmp/ipykernel_16979/1170871101.py:41: UserWarning: pandas only supports SQLAlchemy connectable (engine/connection) or database string URI or sqlite3 DBAPI2 connection. Other DBAPI2 objects are not tested. Please consider using SQLAlchemy.\n",
      "  reviews = pd.read_sql_query(query, conn)\n",
      "2023-08-05 12:45:18.735 | INFO     | __main__:<module>:57 - Training Classifier Model Car Electronics...\n",
      "2023-08-05 12:45:18.796 | INFO     | __main__:<module>:70 - Creating Clusters for Car Electronics...\n",
      "/tmp/ipykernel_16979/1170871101.py:85: SettingWithCopyWarning: \n",
      "A value is trying to be set on a copy of a slice from a DataFrame.\n",
      "Try using .loc[row_indexer,col_indexer] = value instead\n",
      "\n",
      "See the caveats in the documentation: https://pandas.pydata.org/pandas-docs/stable/user_guide/indexing.html#returning-a-view-versus-a-copy\n",
      "  negative_reviews.loc[:, 'cluster'] = kmeans.labels_\n",
      "2023-08-05 12:45:20.899 | INFO     | __main__:<module>:87 - Saving Complaints Car Electronics...\n",
      "2023-08-05 12:45:20.952 | INFO     | __main__:<module>:101 - Savind Wordclouds Car Electronics...\n",
      "2023-08-05 12:45:28.433 | INFO     | __main__:<module>:120 - Saving Models Car Electronics...\n",
      "2023-08-05 12:45:28.451 | INFO     | __main__:<module>:40 - Loading Data category Entertainment...\n",
      "/tmp/ipykernel_16979/1170871101.py:41: UserWarning: pandas only supports SQLAlchemy connectable (engine/connection) or database string URI or sqlite3 DBAPI2 connection. Other DBAPI2 objects are not tested. Please consider using SQLAlchemy.\n",
      "  reviews = pd.read_sql_query(query, conn)\n",
      "2023-08-05 12:45:28.746 | INFO     | __main__:<module>:57 - Training Classifier Model Entertainment...\n",
      "2023-08-05 12:45:28.753 | INFO     | __main__:<module>:70 - Creating Clusters for Entertainment...\n",
      "2023-08-05 12:45:29.779 | INFO     | __main__:<module>:87 - Saving Complaints Entertainment...\n",
      "2023-08-05 12:45:29.815 | INFO     | __main__:<module>:101 - Savind Wordclouds Entertainment...\n",
      "2023-08-05 12:45:32.817 | INFO     | __main__:<module>:120 - Saving Models Entertainment...\n"
     ]
    },
    {
     "data": {
      "text/plain": [
       "<Figure size 1000x500 with 0 Axes>"
      ]
     },
     "metadata": {},
     "output_type": "display_data"
    },
    {
     "data": {
      "text/plain": [
       "<Figure size 1000x500 with 0 Axes>"
      ]
     },
     "metadata": {},
     "output_type": "display_data"
    },
    {
     "data": {
      "text/plain": [
       "<Figure size 1000x500 with 0 Axes>"
      ]
     },
     "metadata": {},
     "output_type": "display_data"
    },
    {
     "data": {
      "text/plain": [
       "<Figure size 1000x500 with 0 Axes>"
      ]
     },
     "metadata": {},
     "output_type": "display_data"
    },
    {
     "data": {
      "text/plain": [
       "<Figure size 1000x500 with 0 Axes>"
      ]
     },
     "metadata": {},
     "output_type": "display_data"
    },
    {
     "data": {
      "text/plain": [
       "<Figure size 1000x500 with 0 Axes>"
      ]
     },
     "metadata": {},
     "output_type": "display_data"
    },
    {
     "data": {
      "text/plain": [
       "<Figure size 1000x500 with 0 Axes>"
      ]
     },
     "metadata": {},
     "output_type": "display_data"
    },
    {
     "data": {
      "text/plain": [
       "<Figure size 1000x500 with 0 Axes>"
      ]
     },
     "metadata": {},
     "output_type": "display_data"
    },
    {
     "data": {
      "text/plain": [
       "<Figure size 1000x500 with 0 Axes>"
      ]
     },
     "metadata": {},
     "output_type": "display_data"
    },
    {
     "data": {
      "text/plain": [
       "<Figure size 1000x500 with 0 Axes>"
      ]
     },
     "metadata": {},
     "output_type": "display_data"
    },
    {
     "data": {
      "text/plain": [
       "<Figure size 1000x500 with 0 Axes>"
      ]
     },
     "metadata": {},
     "output_type": "display_data"
    },
    {
     "data": {
      "text/plain": [
       "<Figure size 1000x500 with 0 Axes>"
      ]
     },
     "metadata": {},
     "output_type": "display_data"
    },
    {
     "data": {
      "text/plain": [
       "<Figure size 1000x500 with 0 Axes>"
      ]
     },
     "metadata": {},
     "output_type": "display_data"
    },
    {
     "data": {
      "text/plain": [
       "<Figure size 1000x500 with 0 Axes>"
      ]
     },
     "metadata": {},
     "output_type": "display_data"
    },
    {
     "data": {
      "text/plain": [
       "<Figure size 1000x500 with 0 Axes>"
      ]
     },
     "metadata": {},
     "output_type": "display_data"
    },
    {
     "data": {
      "text/plain": [
       "<Figure size 1000x500 with 0 Axes>"
      ]
     },
     "metadata": {},
     "output_type": "display_data"
    },
    {
     "data": {
      "text/plain": [
       "<Figure size 1000x500 with 0 Axes>"
      ]
     },
     "metadata": {},
     "output_type": "display_data"
    },
    {
     "data": {
      "text/plain": [
       "<Figure size 1000x500 with 0 Axes>"
      ]
     },
     "metadata": {},
     "output_type": "display_data"
    },
    {
     "data": {
      "text/plain": [
       "<Figure size 1000x500 with 0 Axes>"
      ]
     },
     "metadata": {},
     "output_type": "display_data"
    },
    {
     "data": {
      "text/plain": [
       "<Figure size 1000x500 with 0 Axes>"
      ]
     },
     "metadata": {},
     "output_type": "display_data"
    },
    {
     "data": {
      "text/plain": [
       "<Figure size 1000x500 with 0 Axes>"
      ]
     },
     "metadata": {},
     "output_type": "display_data"
    },
    {
     "data": {
      "text/plain": [
       "<Figure size 1000x500 with 0 Axes>"
      ]
     },
     "metadata": {},
     "output_type": "display_data"
    },
    {
     "data": {
      "text/plain": [
       "<Figure size 1000x500 with 0 Axes>"
      ]
     },
     "metadata": {},
     "output_type": "display_data"
    },
    {
     "data": {
      "text/plain": [
       "<Figure size 1000x500 with 0 Axes>"
      ]
     },
     "metadata": {},
     "output_type": "display_data"
    },
    {
     "data": {
      "text/plain": [
       "<Figure size 1000x500 with 0 Axes>"
      ]
     },
     "metadata": {},
     "output_type": "display_data"
    },
    {
     "data": {
      "text/plain": [
       "<Figure size 1000x500 with 0 Axes>"
      ]
     },
     "metadata": {},
     "output_type": "display_data"
    },
    {
     "data": {
      "text/plain": [
       "<Figure size 1000x500 with 0 Axes>"
      ]
     },
     "metadata": {},
     "output_type": "display_data"
    },
    {
     "data": {
      "text/plain": [
       "<Figure size 1000x500 with 0 Axes>"
      ]
     },
     "metadata": {},
     "output_type": "display_data"
    },
    {
     "data": {
      "text/plain": [
       "<Figure size 1000x500 with 0 Axes>"
      ]
     },
     "metadata": {},
     "output_type": "display_data"
    },
    {
     "data": {
      "text/plain": [
       "<Figure size 1000x500 with 0 Axes>"
      ]
     },
     "metadata": {},
     "output_type": "display_data"
    },
    {
     "data": {
      "text/plain": [
       "<Figure size 1000x500 with 0 Axes>"
      ]
     },
     "metadata": {},
     "output_type": "display_data"
    },
    {
     "data": {
      "text/plain": [
       "<Figure size 1000x500 with 0 Axes>"
      ]
     },
     "metadata": {},
     "output_type": "display_data"
    },
    {
     "data": {
      "text/plain": [
       "<Figure size 1000x500 with 0 Axes>"
      ]
     },
     "metadata": {},
     "output_type": "display_data"
    },
    {
     "data": {
      "text/plain": [
       "<Figure size 1000x500 with 0 Axes>"
      ]
     },
     "metadata": {},
     "output_type": "display_data"
    },
    {
     "data": {
      "text/plain": [
       "<Figure size 1000x500 with 0 Axes>"
      ]
     },
     "metadata": {},
     "output_type": "display_data"
    },
    {
     "data": {
      "text/plain": [
       "<Figure size 1000x500 with 0 Axes>"
      ]
     },
     "metadata": {},
     "output_type": "display_data"
    },
    {
     "data": {
      "text/plain": [
       "<Figure size 1000x500 with 0 Axes>"
      ]
     },
     "metadata": {},
     "output_type": "display_data"
    },
    {
     "data": {
      "text/plain": [
       "<Figure size 1000x500 with 0 Axes>"
      ]
     },
     "metadata": {},
     "output_type": "display_data"
    },
    {
     "data": {
      "text/plain": [
       "<Figure size 1000x500 with 0 Axes>"
      ]
     },
     "metadata": {},
     "output_type": "display_data"
    },
    {
     "data": {
      "text/plain": [
       "<Figure size 1000x500 with 0 Axes>"
      ]
     },
     "metadata": {},
     "output_type": "display_data"
    },
    {
     "data": {
      "text/plain": [
       "<Figure size 1000x500 with 0 Axes>"
      ]
     },
     "metadata": {},
     "output_type": "display_data"
    },
    {
     "data": {
      "text/plain": [
       "<Figure size 1000x500 with 0 Axes>"
      ]
     },
     "metadata": {},
     "output_type": "display_data"
    },
    {
     "data": {
      "text/plain": [
       "<Figure size 1000x500 with 0 Axes>"
      ]
     },
     "metadata": {},
     "output_type": "display_data"
    },
    {
     "data": {
      "text/plain": [
       "<Figure size 1000x500 with 0 Axes>"
      ]
     },
     "metadata": {},
     "output_type": "display_data"
    },
    {
     "data": {
      "text/plain": [
       "<Figure size 1000x500 with 0 Axes>"
      ]
     },
     "metadata": {},
     "output_type": "display_data"
    },
    {
     "data": {
      "text/plain": [
       "<Figure size 1000x500 with 0 Axes>"
      ]
     },
     "metadata": {},
     "output_type": "display_data"
    },
    {
     "data": {
      "text/plain": [
       "<Figure size 1000x500 with 0 Axes>"
      ]
     },
     "metadata": {},
     "output_type": "display_data"
    },
    {
     "data": {
      "text/plain": [
       "<Figure size 1000x500 with 0 Axes>"
      ]
     },
     "metadata": {},
     "output_type": "display_data"
    },
    {
     "data": {
      "text/plain": [
       "<Figure size 1000x500 with 0 Axes>"
      ]
     },
     "metadata": {},
     "output_type": "display_data"
    },
    {
     "data": {
      "text/plain": [
       "<Figure size 1000x500 with 0 Axes>"
      ]
     },
     "metadata": {},
     "output_type": "display_data"
    },
    {
     "data": {
      "text/plain": [
       "<Figure size 1000x500 with 0 Axes>"
      ]
     },
     "metadata": {},
     "output_type": "display_data"
    },
    {
     "data": {
      "text/plain": [
       "<Figure size 1000x500 with 0 Axes>"
      ]
     },
     "metadata": {},
     "output_type": "display_data"
    },
    {
     "data": {
      "text/plain": [
       "<Figure size 1000x500 with 0 Axes>"
      ]
     },
     "metadata": {},
     "output_type": "display_data"
    },
    {
     "data": {
      "text/plain": [
       "<Figure size 1000x500 with 0 Axes>"
      ]
     },
     "metadata": {},
     "output_type": "display_data"
    },
    {
     "data": {
      "text/plain": [
       "<Figure size 1000x500 with 0 Axes>"
      ]
     },
     "metadata": {},
     "output_type": "display_data"
    },
    {
     "data": {
      "text/plain": [
       "<Figure size 1000x500 with 0 Axes>"
      ]
     },
     "metadata": {},
     "output_type": "display_data"
    },
    {
     "data": {
      "text/plain": [
       "<Figure size 1000x500 with 0 Axes>"
      ]
     },
     "metadata": {},
     "output_type": "display_data"
    },
    {
     "data": {
      "text/plain": [
       "<Figure size 1000x500 with 0 Axes>"
      ]
     },
     "metadata": {},
     "output_type": "display_data"
    },
    {
     "data": {
      "text/plain": [
       "<Figure size 1000x500 with 0 Axes>"
      ]
     },
     "metadata": {},
     "output_type": "display_data"
    },
    {
     "data": {
      "text/plain": [
       "<Figure size 1000x500 with 0 Axes>"
      ]
     },
     "metadata": {},
     "output_type": "display_data"
    },
    {
     "data": {
      "text/plain": [
       "<Figure size 1000x500 with 0 Axes>"
      ]
     },
     "metadata": {},
     "output_type": "display_data"
    },
    {
     "data": {
      "text/plain": [
       "<Figure size 1000x500 with 0 Axes>"
      ]
     },
     "metadata": {},
     "output_type": "display_data"
    },
    {
     "data": {
      "text/plain": [
       "<Figure size 1000x500 with 0 Axes>"
      ]
     },
     "metadata": {},
     "output_type": "display_data"
    },
    {
     "data": {
      "text/plain": [
       "<Figure size 1000x500 with 0 Axes>"
      ]
     },
     "metadata": {},
     "output_type": "display_data"
    },
    {
     "data": {
      "text/plain": [
       "<Figure size 1000x500 with 0 Axes>"
      ]
     },
     "metadata": {},
     "output_type": "display_data"
    },
    {
     "data": {
      "text/plain": [
       "<Figure size 1000x500 with 0 Axes>"
      ]
     },
     "metadata": {},
     "output_type": "display_data"
    },
    {
     "data": {
      "text/plain": [
       "<Figure size 1000x500 with 0 Axes>"
      ]
     },
     "metadata": {},
     "output_type": "display_data"
    },
    {
     "data": {
      "text/plain": [
       "<Figure size 1000x500 with 0 Axes>"
      ]
     },
     "metadata": {},
     "output_type": "display_data"
    },
    {
     "data": {
      "text/plain": [
       "<Figure size 1000x500 with 0 Axes>"
      ]
     },
     "metadata": {},
     "output_type": "display_data"
    },
    {
     "data": {
      "text/plain": [
       "<Figure size 1000x500 with 0 Axes>"
      ]
     },
     "metadata": {},
     "output_type": "display_data"
    },
    {
     "data": {
      "text/plain": [
       "<Figure size 1000x500 with 0 Axes>"
      ]
     },
     "metadata": {},
     "output_type": "display_data"
    },
    {
     "data": {
      "text/plain": [
       "<Figure size 1000x500 with 0 Axes>"
      ]
     },
     "metadata": {},
     "output_type": "display_data"
    },
    {
     "data": {
      "text/plain": [
       "<Figure size 1000x500 with 0 Axes>"
      ]
     },
     "metadata": {},
     "output_type": "display_data"
    },
    {
     "data": {
      "text/plain": [
       "<Figure size 1000x500 with 0 Axes>"
      ]
     },
     "metadata": {},
     "output_type": "display_data"
    },
    {
     "data": {
      "text/plain": [
       "<Figure size 1000x500 with 0 Axes>"
      ]
     },
     "metadata": {},
     "output_type": "display_data"
    },
    {
     "data": {
      "text/plain": [
       "<Figure size 1000x500 with 0 Axes>"
      ]
     },
     "metadata": {},
     "output_type": "display_data"
    },
    {
     "data": {
      "text/plain": [
       "<Figure size 1000x500 with 0 Axes>"
      ]
     },
     "metadata": {},
     "output_type": "display_data"
    },
    {
     "data": {
      "text/plain": [
       "<Figure size 1000x500 with 0 Axes>"
      ]
     },
     "metadata": {},
     "output_type": "display_data"
    },
    {
     "data": {
      "text/plain": [
       "<Figure size 1000x500 with 0 Axes>"
      ]
     },
     "metadata": {},
     "output_type": "display_data"
    },
    {
     "data": {
      "text/plain": [
       "<Figure size 1000x500 with 0 Axes>"
      ]
     },
     "metadata": {},
     "output_type": "display_data"
    },
    {
     "data": {
      "text/plain": [
       "<Figure size 1000x500 with 0 Axes>"
      ]
     },
     "metadata": {},
     "output_type": "display_data"
    },
    {
     "data": {
      "text/plain": [
       "<Figure size 1000x500 with 0 Axes>"
      ]
     },
     "metadata": {},
     "output_type": "display_data"
    },
    {
     "data": {
      "text/plain": [
       "<Figure size 1000x500 with 0 Axes>"
      ]
     },
     "metadata": {},
     "output_type": "display_data"
    },
    {
     "data": {
      "text/plain": [
       "<Figure size 1000x500 with 0 Axes>"
      ]
     },
     "metadata": {},
     "output_type": "display_data"
    },
    {
     "data": {
      "text/plain": [
       "<Figure size 1000x500 with 0 Axes>"
      ]
     },
     "metadata": {},
     "output_type": "display_data"
    },
    {
     "data": {
      "text/plain": [
       "<Figure size 1000x500 with 0 Axes>"
      ]
     },
     "metadata": {},
     "output_type": "display_data"
    },
    {
     "data": {
      "text/plain": [
       "<Figure size 1000x500 with 0 Axes>"
      ]
     },
     "metadata": {},
     "output_type": "display_data"
    },
    {
     "data": {
      "text/plain": [
       "<Figure size 1000x500 with 0 Axes>"
      ]
     },
     "metadata": {},
     "output_type": "display_data"
    },
    {
     "data": {
      "text/plain": [
       "<Figure size 1000x500 with 0 Axes>"
      ]
     },
     "metadata": {},
     "output_type": "display_data"
    },
    {
     "data": {
      "text/plain": [
       "<Figure size 1000x500 with 0 Axes>"
      ]
     },
     "metadata": {},
     "output_type": "display_data"
    },
    {
     "data": {
      "text/plain": [
       "<Figure size 1000x500 with 0 Axes>"
      ]
     },
     "metadata": {},
     "output_type": "display_data"
    },
    {
     "data": {
      "text/plain": [
       "<Figure size 1000x500 with 0 Axes>"
      ]
     },
     "metadata": {},
     "output_type": "display_data"
    },
    {
     "data": {
      "text/plain": [
       "<Figure size 1000x500 with 0 Axes>"
      ]
     },
     "metadata": {},
     "output_type": "display_data"
    },
    {
     "data": {
      "text/plain": [
       "<Figure size 1000x500 with 0 Axes>"
      ]
     },
     "metadata": {},
     "output_type": "display_data"
    },
    {
     "data": {
      "text/plain": [
       "<Figure size 1000x500 with 0 Axes>"
      ]
     },
     "metadata": {},
     "output_type": "display_data"
    },
    {
     "data": {
      "text/plain": [
       "<Figure size 1000x500 with 0 Axes>"
      ]
     },
     "metadata": {},
     "output_type": "display_data"
    },
    {
     "data": {
      "text/plain": [
       "<Figure size 1000x500 with 0 Axes>"
      ]
     },
     "metadata": {},
     "output_type": "display_data"
    },
    {
     "data": {
      "text/plain": [
       "<Figure size 1000x500 with 0 Axes>"
      ]
     },
     "metadata": {},
     "output_type": "display_data"
    },
    {
     "data": {
      "text/plain": [
       "<Figure size 1000x500 with 0 Axes>"
      ]
     },
     "metadata": {},
     "output_type": "display_data"
    },
    {
     "data": {
      "text/plain": [
       "<Figure size 1000x500 with 0 Axes>"
      ]
     },
     "metadata": {},
     "output_type": "display_data"
    },
    {
     "data": {
      "text/plain": [
       "<Figure size 1000x500 with 0 Axes>"
      ]
     },
     "metadata": {},
     "output_type": "display_data"
    },
    {
     "data": {
      "text/plain": [
       "<Figure size 1000x500 with 0 Axes>"
      ]
     },
     "metadata": {},
     "output_type": "display_data"
    },
    {
     "data": {
      "text/plain": [
       "<Figure size 1000x500 with 0 Axes>"
      ]
     },
     "metadata": {},
     "output_type": "display_data"
    },
    {
     "data": {
      "text/plain": [
       "<Figure size 1000x500 with 0 Axes>"
      ]
     },
     "metadata": {},
     "output_type": "display_data"
    },
    {
     "data": {
      "text/plain": [
       "<Figure size 1000x500 with 0 Axes>"
      ]
     },
     "metadata": {},
     "output_type": "display_data"
    },
    {
     "data": {
      "text/plain": [
       "<Figure size 1000x500 with 0 Axes>"
      ]
     },
     "metadata": {},
     "output_type": "display_data"
    },
    {
     "data": {
      "text/plain": [
       "<Figure size 1000x500 with 0 Axes>"
      ]
     },
     "metadata": {},
     "output_type": "display_data"
    },
    {
     "data": {
      "text/plain": [
       "<Figure size 1000x500 with 0 Axes>"
      ]
     },
     "metadata": {},
     "output_type": "display_data"
    },
    {
     "data": {
      "text/plain": [
       "<Figure size 1000x500 with 0 Axes>"
      ]
     },
     "metadata": {},
     "output_type": "display_data"
    },
    {
     "data": {
      "text/plain": [
       "<Figure size 1000x500 with 0 Axes>"
      ]
     },
     "metadata": {},
     "output_type": "display_data"
    },
    {
     "data": {
      "text/plain": [
       "<Figure size 1000x500 with 0 Axes>"
      ]
     },
     "metadata": {},
     "output_type": "display_data"
    },
    {
     "data": {
      "text/plain": [
       "<Figure size 1000x500 with 0 Axes>"
      ]
     },
     "metadata": {},
     "output_type": "display_data"
    },
    {
     "data": {
      "text/plain": [
       "<Figure size 1000x500 with 0 Axes>"
      ]
     },
     "metadata": {},
     "output_type": "display_data"
    },
    {
     "data": {
      "text/plain": [
       "<Figure size 1000x500 with 0 Axes>"
      ]
     },
     "metadata": {},
     "output_type": "display_data"
    },
    {
     "data": {
      "text/plain": [
       "<Figure size 1000x500 with 0 Axes>"
      ]
     },
     "metadata": {},
     "output_type": "display_data"
    },
    {
     "data": {
      "text/plain": [
       "<Figure size 1000x500 with 0 Axes>"
      ]
     },
     "metadata": {},
     "output_type": "display_data"
    },
    {
     "data": {
      "text/plain": [
       "<Figure size 1000x500 with 0 Axes>"
      ]
     },
     "metadata": {},
     "output_type": "display_data"
    },
    {
     "data": {
      "text/plain": [
       "<Figure size 1000x500 with 0 Axes>"
      ]
     },
     "metadata": {},
     "output_type": "display_data"
    },
    {
     "data": {
      "text/plain": [
       "<Figure size 1000x500 with 0 Axes>"
      ]
     },
     "metadata": {},
     "output_type": "display_data"
    },
    {
     "data": {
      "text/plain": [
       "<Figure size 1000x500 with 0 Axes>"
      ]
     },
     "metadata": {},
     "output_type": "display_data"
    },
    {
     "data": {
      "text/plain": [
       "<Figure size 1000x500 with 0 Axes>"
      ]
     },
     "metadata": {},
     "output_type": "display_data"
    },
    {
     "data": {
      "text/plain": [
       "<Figure size 1000x500 with 0 Axes>"
      ]
     },
     "metadata": {},
     "output_type": "display_data"
    },
    {
     "data": {
      "text/plain": [
       "<Figure size 1000x500 with 0 Axes>"
      ]
     },
     "metadata": {},
     "output_type": "display_data"
    },
    {
     "data": {
      "text/plain": [
       "<Figure size 1000x500 with 0 Axes>"
      ]
     },
     "metadata": {},
     "output_type": "display_data"
    },
    {
     "data": {
      "text/plain": [
       "<Figure size 1000x500 with 0 Axes>"
      ]
     },
     "metadata": {},
     "output_type": "display_data"
    },
    {
     "data": {
      "text/plain": [
       "<Figure size 1000x500 with 0 Axes>"
      ]
     },
     "metadata": {},
     "output_type": "display_data"
    },
    {
     "data": {
      "text/plain": [
       "<Figure size 1000x500 with 0 Axes>"
      ]
     },
     "metadata": {},
     "output_type": "display_data"
    },
    {
     "data": {
      "text/plain": [
       "<Figure size 1000x500 with 0 Axes>"
      ]
     },
     "metadata": {},
     "output_type": "display_data"
    },
    {
     "data": {
      "text/plain": [
       "<Figure size 1000x500 with 0 Axes>"
      ]
     },
     "metadata": {},
     "output_type": "display_data"
    },
    {
     "data": {
      "text/plain": [
       "<Figure size 1000x500 with 0 Axes>"
      ]
     },
     "metadata": {},
     "output_type": "display_data"
    },
    {
     "data": {
      "text/plain": [
       "<Figure size 1000x500 with 0 Axes>"
      ]
     },
     "metadata": {},
     "output_type": "display_data"
    },
    {
     "data": {
      "text/plain": [
       "<Figure size 1000x500 with 0 Axes>"
      ]
     },
     "metadata": {},
     "output_type": "display_data"
    },
    {
     "data": {
      "text/plain": [
       "<Figure size 1000x500 with 0 Axes>"
      ]
     },
     "metadata": {},
     "output_type": "display_data"
    },
    {
     "data": {
      "text/plain": [
       "<Figure size 1000x500 with 0 Axes>"
      ]
     },
     "metadata": {},
     "output_type": "display_data"
    },
    {
     "data": {
      "text/plain": [
       "<Figure size 1000x500 with 0 Axes>"
      ]
     },
     "metadata": {},
     "output_type": "display_data"
    },
    {
     "data": {
      "text/plain": [
       "<Figure size 1000x500 with 0 Axes>"
      ]
     },
     "metadata": {},
     "output_type": "display_data"
    },
    {
     "data": {
      "text/plain": [
       "<Figure size 1000x500 with 0 Axes>"
      ]
     },
     "metadata": {},
     "output_type": "display_data"
    },
    {
     "data": {
      "text/plain": [
       "<Figure size 1000x500 with 0 Axes>"
      ]
     },
     "metadata": {},
     "output_type": "display_data"
    },
    {
     "data": {
      "text/plain": [
       "<Figure size 1000x500 with 0 Axes>"
      ]
     },
     "metadata": {},
     "output_type": "display_data"
    },
    {
     "data": {
      "text/plain": [
       "<Figure size 1000x500 with 0 Axes>"
      ]
     },
     "metadata": {},
     "output_type": "display_data"
    },
    {
     "data": {
      "text/plain": [
       "<Figure size 1000x500 with 0 Axes>"
      ]
     },
     "metadata": {},
     "output_type": "display_data"
    },
    {
     "data": {
      "text/plain": [
       "<Figure size 1000x500 with 0 Axes>"
      ]
     },
     "metadata": {},
     "output_type": "display_data"
    },
    {
     "data": {
      "text/plain": [
       "<Figure size 1000x500 with 0 Axes>"
      ]
     },
     "metadata": {},
     "output_type": "display_data"
    },
    {
     "data": {
      "text/plain": [
       "<Figure size 1000x500 with 0 Axes>"
      ]
     },
     "metadata": {},
     "output_type": "display_data"
    },
    {
     "data": {
      "text/plain": [
       "<Figure size 1000x500 with 0 Axes>"
      ]
     },
     "metadata": {},
     "output_type": "display_data"
    },
    {
     "data": {
      "text/plain": [
       "<Figure size 1000x500 with 0 Axes>"
      ]
     },
     "metadata": {},
     "output_type": "display_data"
    },
    {
     "data": {
      "text/plain": [
       "<Figure size 1000x500 with 0 Axes>"
      ]
     },
     "metadata": {},
     "output_type": "display_data"
    },
    {
     "data": {
      "text/plain": [
       "<Figure size 1000x500 with 0 Axes>"
      ]
     },
     "metadata": {},
     "output_type": "display_data"
    },
    {
     "data": {
      "text/plain": [
       "<Figure size 1000x500 with 0 Axes>"
      ]
     },
     "metadata": {},
     "output_type": "display_data"
    },
    {
     "data": {
      "text/plain": [
       "<Figure size 1000x500 with 0 Axes>"
      ]
     },
     "metadata": {},
     "output_type": "display_data"
    },
    {
     "data": {
      "text/plain": [
       "<Figure size 1000x500 with 0 Axes>"
      ]
     },
     "metadata": {},
     "output_type": "display_data"
    },
    {
     "data": {
      "text/plain": [
       "<Figure size 1000x500 with 0 Axes>"
      ]
     },
     "metadata": {},
     "output_type": "display_data"
    },
    {
     "data": {
      "text/plain": [
       "<Figure size 1000x500 with 0 Axes>"
      ]
     },
     "metadata": {},
     "output_type": "display_data"
    },
    {
     "data": {
      "text/plain": [
       "<Figure size 1000x500 with 0 Axes>"
      ]
     },
     "metadata": {},
     "output_type": "display_data"
    },
    {
     "data": {
      "text/plain": [
       "<Figure size 1000x500 with 0 Axes>"
      ]
     },
     "metadata": {},
     "output_type": "display_data"
    },
    {
     "data": {
      "text/plain": [
       "<Figure size 1000x500 with 0 Axes>"
      ]
     },
     "metadata": {},
     "output_type": "display_data"
    },
    {
     "data": {
      "text/plain": [
       "<Figure size 1000x500 with 0 Axes>"
      ]
     },
     "metadata": {},
     "output_type": "display_data"
    },
    {
     "data": {
      "text/plain": [
       "<Figure size 1000x500 with 0 Axes>"
      ]
     },
     "metadata": {},
     "output_type": "display_data"
    },
    {
     "data": {
      "text/plain": [
       "<Figure size 1000x500 with 0 Axes>"
      ]
     },
     "metadata": {},
     "output_type": "display_data"
    },
    {
     "data": {
      "text/plain": [
       "<Figure size 1000x500 with 0 Axes>"
      ]
     },
     "metadata": {},
     "output_type": "display_data"
    },
    {
     "data": {
      "text/plain": [
       "<Figure size 1000x500 with 0 Axes>"
      ]
     },
     "metadata": {},
     "output_type": "display_data"
    },
    {
     "data": {
      "text/plain": [
       "<Figure size 1000x500 with 0 Axes>"
      ]
     },
     "metadata": {},
     "output_type": "display_data"
    },
    {
     "data": {
      "text/plain": [
       "<Figure size 1000x500 with 0 Axes>"
      ]
     },
     "metadata": {},
     "output_type": "display_data"
    },
    {
     "data": {
      "text/plain": [
       "<Figure size 1000x500 with 0 Axes>"
      ]
     },
     "metadata": {},
     "output_type": "display_data"
    },
    {
     "data": {
      "text/plain": [
       "<Figure size 1000x500 with 0 Axes>"
      ]
     },
     "metadata": {},
     "output_type": "display_data"
    },
    {
     "data": {
      "text/plain": [
       "<Figure size 1000x500 with 0 Axes>"
      ]
     },
     "metadata": {},
     "output_type": "display_data"
    },
    {
     "data": {
      "text/plain": [
       "<Figure size 1000x500 with 0 Axes>"
      ]
     },
     "metadata": {},
     "output_type": "display_data"
    },
    {
     "data": {
      "text/plain": [
       "<Figure size 1000x500 with 0 Axes>"
      ]
     },
     "metadata": {},
     "output_type": "display_data"
    },
    {
     "data": {
      "text/plain": [
       "<Figure size 1000x500 with 0 Axes>"
      ]
     },
     "metadata": {},
     "output_type": "display_data"
    },
    {
     "data": {
      "text/plain": [
       "<Figure size 1000x500 with 0 Axes>"
      ]
     },
     "metadata": {},
     "output_type": "display_data"
    },
    {
     "data": {
      "text/plain": [
       "<Figure size 1000x500 with 0 Axes>"
      ]
     },
     "metadata": {},
     "output_type": "display_data"
    },
    {
     "data": {
      "text/plain": [
       "<Figure size 1000x500 with 0 Axes>"
      ]
     },
     "metadata": {},
     "output_type": "display_data"
    },
    {
     "data": {
      "text/plain": [
       "<Figure size 1000x500 with 0 Axes>"
      ]
     },
     "metadata": {},
     "output_type": "display_data"
    },
    {
     "data": {
      "text/plain": [
       "<Figure size 1000x500 with 0 Axes>"
      ]
     },
     "metadata": {},
     "output_type": "display_data"
    },
    {
     "data": {
      "text/plain": [
       "<Figure size 1000x500 with 0 Axes>"
      ]
     },
     "metadata": {},
     "output_type": "display_data"
    },
    {
     "data": {
      "text/plain": [
       "<Figure size 1000x500 with 0 Axes>"
      ]
     },
     "metadata": {},
     "output_type": "display_data"
    },
    {
     "data": {
      "text/plain": [
       "<Figure size 1000x500 with 0 Axes>"
      ]
     },
     "metadata": {},
     "output_type": "display_data"
    },
    {
     "data": {
      "text/plain": [
       "<Figure size 1000x500 with 0 Axes>"
      ]
     },
     "metadata": {},
     "output_type": "display_data"
    },
    {
     "data": {
      "text/plain": [
       "<Figure size 1000x500 with 0 Axes>"
      ]
     },
     "metadata": {},
     "output_type": "display_data"
    },
    {
     "data": {
      "text/plain": [
       "<Figure size 1000x500 with 0 Axes>"
      ]
     },
     "metadata": {},
     "output_type": "display_data"
    },
    {
     "data": {
      "text/plain": [
       "<Figure size 1000x500 with 0 Axes>"
      ]
     },
     "metadata": {},
     "output_type": "display_data"
    },
    {
     "data": {
      "text/plain": [
       "<Figure size 1000x500 with 0 Axes>"
      ]
     },
     "metadata": {},
     "output_type": "display_data"
    },
    {
     "data": {
      "text/plain": [
       "<Figure size 1000x500 with 0 Axes>"
      ]
     },
     "metadata": {},
     "output_type": "display_data"
    },
    {
     "data": {
      "text/plain": [
       "<Figure size 1000x500 with 0 Axes>"
      ]
     },
     "metadata": {},
     "output_type": "display_data"
    },
    {
     "data": {
      "text/plain": [
       "<Figure size 1000x500 with 0 Axes>"
      ]
     },
     "metadata": {},
     "output_type": "display_data"
    },
    {
     "data": {
      "text/plain": [
       "<Figure size 1000x500 with 0 Axes>"
      ]
     },
     "metadata": {},
     "output_type": "display_data"
    },
    {
     "data": {
      "text/plain": [
       "<Figure size 1000x500 with 0 Axes>"
      ]
     },
     "metadata": {},
     "output_type": "display_data"
    },
    {
     "data": {
      "text/plain": [
       "<Figure size 1000x500 with 0 Axes>"
      ]
     },
     "metadata": {},
     "output_type": "display_data"
    },
    {
     "data": {
      "text/plain": [
       "<Figure size 1000x500 with 0 Axes>"
      ]
     },
     "metadata": {},
     "output_type": "display_data"
    },
    {
     "data": {
      "text/plain": [
       "<Figure size 1000x500 with 0 Axes>"
      ]
     },
     "metadata": {},
     "output_type": "display_data"
    },
    {
     "data": {
      "text/plain": [
       "<Figure size 1000x500 with 0 Axes>"
      ]
     },
     "metadata": {},
     "output_type": "display_data"
    },
    {
     "data": {
      "text/plain": [
       "<Figure size 1000x500 with 0 Axes>"
      ]
     },
     "metadata": {},
     "output_type": "display_data"
    },
    {
     "data": {
      "text/plain": [
       "<Figure size 1000x500 with 0 Axes>"
      ]
     },
     "metadata": {},
     "output_type": "display_data"
    },
    {
     "data": {
      "text/plain": [
       "<Figure size 1000x500 with 0 Axes>"
      ]
     },
     "metadata": {},
     "output_type": "display_data"
    },
    {
     "data": {
      "text/plain": [
       "<Figure size 1000x500 with 0 Axes>"
      ]
     },
     "metadata": {},
     "output_type": "display_data"
    },
    {
     "data": {
      "text/plain": [
       "<Figure size 1000x500 with 0 Axes>"
      ]
     },
     "metadata": {},
     "output_type": "display_data"
    },
    {
     "data": {
      "text/plain": [
       "<Figure size 1000x500 with 0 Axes>"
      ]
     },
     "metadata": {},
     "output_type": "display_data"
    },
    {
     "data": {
      "text/plain": [
       "<Figure size 1000x500 with 0 Axes>"
      ]
     },
     "metadata": {},
     "output_type": "display_data"
    },
    {
     "data": {
      "text/plain": [
       "<Figure size 1000x500 with 0 Axes>"
      ]
     },
     "metadata": {},
     "output_type": "display_data"
    },
    {
     "data": {
      "text/plain": [
       "<Figure size 1000x500 with 0 Axes>"
      ]
     },
     "metadata": {},
     "output_type": "display_data"
    },
    {
     "data": {
      "text/plain": [
       "<Figure size 1000x500 with 0 Axes>"
      ]
     },
     "metadata": {},
     "output_type": "display_data"
    },
    {
     "data": {
      "text/plain": [
       "<Figure size 1000x500 with 0 Axes>"
      ]
     },
     "metadata": {},
     "output_type": "display_data"
    },
    {
     "data": {
      "text/plain": [
       "<Figure size 1000x500 with 0 Axes>"
      ]
     },
     "metadata": {},
     "output_type": "display_data"
    },
    {
     "data": {
      "text/plain": [
       "<Figure size 1000x500 with 0 Axes>"
      ]
     },
     "metadata": {},
     "output_type": "display_data"
    },
    {
     "data": {
      "text/plain": [
       "<Figure size 1000x500 with 0 Axes>"
      ]
     },
     "metadata": {},
     "output_type": "display_data"
    },
    {
     "data": {
      "text/plain": [
       "<Figure size 1000x500 with 0 Axes>"
      ]
     },
     "metadata": {},
     "output_type": "display_data"
    },
    {
     "data": {
      "text/plain": [
       "<Figure size 1000x500 with 0 Axes>"
      ]
     },
     "metadata": {},
     "output_type": "display_data"
    },
    {
     "data": {
      "text/plain": [
       "<Figure size 1000x500 with 0 Axes>"
      ]
     },
     "metadata": {},
     "output_type": "display_data"
    },
    {
     "data": {
      "text/plain": [
       "<Figure size 1000x500 with 0 Axes>"
      ]
     },
     "metadata": {},
     "output_type": "display_data"
    },
    {
     "data": {
      "text/plain": [
       "<Figure size 1000x500 with 0 Axes>"
      ]
     },
     "metadata": {},
     "output_type": "display_data"
    },
    {
     "data": {
      "text/plain": [
       "<Figure size 1000x500 with 0 Axes>"
      ]
     },
     "metadata": {},
     "output_type": "display_data"
    },
    {
     "data": {
      "text/plain": [
       "<Figure size 1000x500 with 0 Axes>"
      ]
     },
     "metadata": {},
     "output_type": "display_data"
    },
    {
     "data": {
      "text/plain": [
       "<Figure size 1000x500 with 0 Axes>"
      ]
     },
     "metadata": {},
     "output_type": "display_data"
    },
    {
     "data": {
      "text/plain": [
       "<Figure size 1000x500 with 0 Axes>"
      ]
     },
     "metadata": {},
     "output_type": "display_data"
    },
    {
     "data": {
      "text/plain": [
       "<Figure size 1000x500 with 0 Axes>"
      ]
     },
     "metadata": {},
     "output_type": "display_data"
    },
    {
     "data": {
      "text/plain": [
       "<Figure size 1000x500 with 0 Axes>"
      ]
     },
     "metadata": {},
     "output_type": "display_data"
    },
    {
     "data": {
      "text/plain": [
       "<Figure size 1000x500 with 0 Axes>"
      ]
     },
     "metadata": {},
     "output_type": "display_data"
    },
    {
     "data": {
      "text/plain": [
       "<Figure size 1000x500 with 0 Axes>"
      ]
     },
     "metadata": {},
     "output_type": "display_data"
    },
    {
     "data": {
      "text/plain": [
       "<Figure size 1000x500 with 0 Axes>"
      ]
     },
     "metadata": {},
     "output_type": "display_data"
    },
    {
     "data": {
      "text/plain": [
       "<Figure size 1000x500 with 0 Axes>"
      ]
     },
     "metadata": {},
     "output_type": "display_data"
    },
    {
     "data": {
      "text/plain": [
       "<Figure size 1000x500 with 0 Axes>"
      ]
     },
     "metadata": {},
     "output_type": "display_data"
    },
    {
     "data": {
      "text/plain": [
       "<Figure size 1000x500 with 0 Axes>"
      ]
     },
     "metadata": {},
     "output_type": "display_data"
    },
    {
     "data": {
      "text/plain": [
       "<Figure size 1000x500 with 0 Axes>"
      ]
     },
     "metadata": {},
     "output_type": "display_data"
    },
    {
     "data": {
      "text/plain": [
       "<Figure size 1000x500 with 0 Axes>"
      ]
     },
     "metadata": {},
     "output_type": "display_data"
    },
    {
     "data": {
      "text/plain": [
       "<Figure size 1000x500 with 0 Axes>"
      ]
     },
     "metadata": {},
     "output_type": "display_data"
    },
    {
     "data": {
      "text/plain": [
       "<Figure size 1000x500 with 0 Axes>"
      ]
     },
     "metadata": {},
     "output_type": "display_data"
    },
    {
     "data": {
      "text/plain": [
       "<Figure size 1000x500 with 0 Axes>"
      ]
     },
     "metadata": {},
     "output_type": "display_data"
    },
    {
     "data": {
      "text/plain": [
       "<Figure size 1000x500 with 0 Axes>"
      ]
     },
     "metadata": {},
     "output_type": "display_data"
    },
    {
     "data": {
      "text/plain": [
       "<Figure size 1000x500 with 0 Axes>"
      ]
     },
     "metadata": {},
     "output_type": "display_data"
    },
    {
     "data": {
      "text/plain": [
       "<Figure size 1000x500 with 0 Axes>"
      ]
     },
     "metadata": {},
     "output_type": "display_data"
    },
    {
     "data": {
      "text/plain": [
       "<Figure size 1000x500 with 0 Axes>"
      ]
     },
     "metadata": {},
     "output_type": "display_data"
    },
    {
     "data": {
      "text/plain": [
       "<Figure size 1000x500 with 0 Axes>"
      ]
     },
     "metadata": {},
     "output_type": "display_data"
    },
    {
     "data": {
      "text/plain": [
       "<Figure size 1000x500 with 0 Axes>"
      ]
     },
     "metadata": {},
     "output_type": "display_data"
    },
    {
     "data": {
      "text/plain": [
       "<Figure size 1000x500 with 0 Axes>"
      ]
     },
     "metadata": {},
     "output_type": "display_data"
    },
    {
     "data": {
      "text/plain": [
       "<Figure size 1000x500 with 0 Axes>"
      ]
     },
     "metadata": {},
     "output_type": "display_data"
    },
    {
     "data": {
      "text/plain": [
       "<Figure size 1000x500 with 0 Axes>"
      ]
     },
     "metadata": {},
     "output_type": "display_data"
    },
    {
     "data": {
      "text/plain": [
       "<Figure size 1000x500 with 0 Axes>"
      ]
     },
     "metadata": {},
     "output_type": "display_data"
    },
    {
     "data": {
      "text/plain": [
       "<Figure size 1000x500 with 0 Axes>"
      ]
     },
     "metadata": {},
     "output_type": "display_data"
    },
    {
     "data": {
      "text/plain": [
       "<Figure size 1000x500 with 0 Axes>"
      ]
     },
     "metadata": {},
     "output_type": "display_data"
    },
    {
     "data": {
      "text/plain": [
       "<Figure size 1000x500 with 0 Axes>"
      ]
     },
     "metadata": {},
     "output_type": "display_data"
    },
    {
     "data": {
      "text/plain": [
       "<Figure size 1000x500 with 0 Axes>"
      ]
     },
     "metadata": {},
     "output_type": "display_data"
    },
    {
     "data": {
      "text/plain": [
       "<Figure size 1000x500 with 0 Axes>"
      ]
     },
     "metadata": {},
     "output_type": "display_data"
    },
    {
     "data": {
      "text/plain": [
       "<Figure size 1000x500 with 0 Axes>"
      ]
     },
     "metadata": {},
     "output_type": "display_data"
    },
    {
     "data": {
      "text/plain": [
       "<Figure size 1000x500 with 0 Axes>"
      ]
     },
     "metadata": {},
     "output_type": "display_data"
    },
    {
     "data": {
      "text/plain": [
       "<Figure size 1000x500 with 0 Axes>"
      ]
     },
     "metadata": {},
     "output_type": "display_data"
    },
    {
     "data": {
      "text/plain": [
       "<Figure size 1000x500 with 0 Axes>"
      ]
     },
     "metadata": {},
     "output_type": "display_data"
    },
    {
     "data": {
      "text/plain": [
       "<Figure size 1000x500 with 0 Axes>"
      ]
     },
     "metadata": {},
     "output_type": "display_data"
    },
    {
     "data": {
      "text/plain": [
       "<Figure size 1000x500 with 0 Axes>"
      ]
     },
     "metadata": {},
     "output_type": "display_data"
    },
    {
     "data": {
      "text/plain": [
       "<Figure size 1000x500 with 0 Axes>"
      ]
     },
     "metadata": {},
     "output_type": "display_data"
    },
    {
     "data": {
      "text/plain": [
       "<Figure size 1000x500 with 0 Axes>"
      ]
     },
     "metadata": {},
     "output_type": "display_data"
    },
    {
     "data": {
      "text/plain": [
       "<Figure size 1000x500 with 0 Axes>"
      ]
     },
     "metadata": {},
     "output_type": "display_data"
    },
    {
     "data": {
      "text/plain": [
       "<Figure size 1000x500 with 0 Axes>"
      ]
     },
     "metadata": {},
     "output_type": "display_data"
    },
    {
     "data": {
      "text/plain": [
       "<Figure size 1000x500 with 0 Axes>"
      ]
     },
     "metadata": {},
     "output_type": "display_data"
    },
    {
     "data": {
      "text/plain": [
       "<Figure size 1000x500 with 0 Axes>"
      ]
     },
     "metadata": {},
     "output_type": "display_data"
    },
    {
     "data": {
      "text/plain": [
       "<Figure size 1000x500 with 0 Axes>"
      ]
     },
     "metadata": {},
     "output_type": "display_data"
    },
    {
     "data": {
      "text/plain": [
       "<Figure size 1000x500 with 0 Axes>"
      ]
     },
     "metadata": {},
     "output_type": "display_data"
    },
    {
     "data": {
      "text/plain": [
       "<Figure size 1000x500 with 0 Axes>"
      ]
     },
     "metadata": {},
     "output_type": "display_data"
    },
    {
     "data": {
      "text/plain": [
       "<Figure size 1000x500 with 0 Axes>"
      ]
     },
     "metadata": {},
     "output_type": "display_data"
    }
   ],
   "source": [
    "for i in category_list:\n",
    "    query = \"\"\"\n",
    "    WITH CTE AS (\n",
    "        SELECT \n",
    "            REV.ASIN,\n",
    "            REV.REVIEWER_ID,\n",
    "            REV.REVIEW_TEXT,\n",
    "            REV.REVIEW_TIME,\n",
    "            PROD.MAIN_CATEGORY,\n",
    "            PROD.PRICE,\n",
    "            AVG(REV.OVERALL) OVER (PARTITION BY REV.ASIN) AS \"PRODUCT_AVG_RATING\",\n",
    "            (CASE \n",
    "                WHEN REV.OVERALL >= 4 THEN 'POSITIVE'\n",
    "                ELSE 'NEGATIVE'\n",
    "            END) AS SENTIMENT\n",
    "        FROM \n",
    "            PRODUCTS_REVIEWS AS REV\n",
    "        INNER JOIN \n",
    "            PRODUCTS AS PROD ON PROD.ASIN = REV.ASIN \n",
    "        WHERE \n",
    "            PROD.MAIN_CATEGORY = '{i}' AND \n",
    "            PROD.PRICE IS NOT NULL AND \n",
    "            REV.REVIEW_TEXT IS NOT NULL\n",
    "    )\n",
    "    SELECT \n",
    "        *\n",
    "    FROM \n",
    "        (\n",
    "    SELECT\n",
    "        *,\n",
    "        ROW_NUMBER() OVER (PARTITION BY REVIEWER_ID ORDER BY REVIEW_TIME DESC) AS ROW_NUMBER\n",
    "    FROM\n",
    "        CTE\n",
    "    )\n",
    "    WHERE \n",
    "        ROW_NUMBER = 1 AND \n",
    "        PRODUCT_AVG_RATING <= 2 \n",
    "    \"\"\".format(i=i)\n",
    "    \n",
    "    logger.info('Loading Data category {i}...'.format(i=i))\n",
    "    reviews = pd.read_sql_query(query, conn)\n",
    "\n",
    "    if len(reviews) > 100:\n",
    "\n",
    "        reviews['clean_reviews'] = reviews['REVIEW_TEXT'].apply(preprocess_text)\n",
    "\n",
    "        X = reviews['clean_reviews']\n",
    "        y = reviews['SENTIMENT']\n",
    "        X_train, X_test, y_train, y_test = train_test_split(X, y, test_size=0.2, random_state=42)\n",
    "\n",
    "        # Feature extraction using TF-IDF\n",
    "        vectorizer = TfidfVectorizer()\n",
    "        X_train_tfidf = vectorizer.fit_transform(X_train)\n",
    "        X_test_tfidf = vectorizer.transform(X_test)\n",
    "\n",
    "        # Training a Support Vector Machine (SVM) classifier\n",
    "        logger.info('Training Classifier Model {i}...'.format(i=i))\n",
    "        classifier = SVC(kernel='linear')\n",
    "        classifier.fit(X_train_tfidf, y_train)\n",
    "\n",
    "        # Predicting on the test set\n",
    "        y_pred = classifier.predict(X_test_tfidf)\n",
    "\n",
    "        # Evaluating the model\n",
    "        accuracy = accuracy_score(y_test, y_pred)\n",
    "\n",
    "        reviews['predicted_sentiments'] = classifier.predict(vectorizer.transform(reviews['clean_reviews']))\n",
    "        negative_reviews = reviews[reviews['predicted_sentiments'] == 'NEGATIVE']\n",
    "\n",
    "        logger.info('Creating Clusters for {i}...'.format(i=i))\n",
    "        silhouette_scores = []\n",
    "        k_values = list(range(3,10))  # Maximum number of clusters to try\n",
    "\n",
    "        for k in k_values:\n",
    "            kmeans = KMeans(n_clusters=k, random_state=42)\n",
    "            kmeans.fit(vectorizer.transform(negative_reviews['clean_reviews']))\n",
    "            silhouette_scores.append(silhouette_score(vectorizer.transform(negative_reviews['clean_reviews']), kmeans.labels_))\n",
    "\n",
    "        silhouette_results = dict(zip(k_values, silhouette_scores))\n",
    "        maxSilhouette = dict(sorted(silhouette_results.items(), key=lambda item: item[1], reverse=True))\n",
    "        k = list(maxSilhouette.keys())[0] # optimum number of clusters\n",
    "\n",
    "        kmeans = KMeans(n_clusters=k, random_state=42)\n",
    "        kmeans.fit(vectorizer.transform(negative_reviews['clean_reviews']))\n",
    "        negative_reviews.loc[:, 'cluster'] = kmeans.labels_\n",
    "\n",
    "        logger.info('Saving Complaints {i}...'.format(i=i))\n",
    "        # Print the grouped complaints for each cluster\n",
    "        for j in range(k):\n",
    "            df_name = f'cluster_complaints_{i}_{j}'\n",
    "            df_name = negative_reviews[negative_reviews['cluster'] == j][['REVIEWER_ID', 'REVIEW_TEXT']]\n",
    "            if not os.path.exists(f\"../output/complaints/{i}\"):\n",
    "                os.makedirs(f\"../output/complaints/{i}\")\n",
    "            df_name.to_parquet(\n",
    "                        path=\"../output/complaints/{i}/cluster_complaints_{i}_{j}.parquet\".format(i=i, j=j),\n",
    "                        engine=\"auto\"\n",
    "                    ) \n",
    "            # print(f\"\\nCluster {j + 1} - Complaints:\")\n",
    "            # print(negative_reviews[negative_reviews['cluster'] == j]['REVIEW_TEXT'])\n",
    "\n",
    "        logger.info('Savind Wordclouds {i}...'.format(i=i))\n",
    "        for j in range(k):\n",
    "            cluster_reviews = negative_reviews[negative_reviews['cluster'] == j]['clean_reviews']\n",
    "            all_text = ' '.join(cluster_reviews)\n",
    "            \n",
    "            wordcloud = WordCloud(width=800, height=400, background_color='white', colormap='viridis').generate(all_text)\n",
    "            \n",
    "            plt.figure(figsize=(10, 5))\n",
    "            plt.imshow(wordcloud, interpolation='bilinear')\n",
    "            plt.axis(\"off\")\n",
    "            plt.title(f\"{i}- Cluster {j + 1}\")\n",
    "            if not os.path.exists(f\"../output/word_clouds/{i}\"):\n",
    "                os.makedirs(f\"../output/word_clouds/{i}\")\n",
    "        \n",
    "            # Save the image to the folder\n",
    "            image_filename = f\"../output/word_clouds/{i}/word_cloud_cluster_{i}_{j + 1}.png\"\n",
    "            plt.savefig(image_filename)\n",
    "            plt.clf()\n",
    "\n",
    "        logger.info('Saving Models {i}...'.format(i=i))\n",
    "        # Save the trained classifier and vectorizer to files\n",
    "        joblib.dump(classifier, '../output/models/complaint_classifier_model_{i}.pkl'.format(i=i))\n",
    "        joblib.dump(vectorizer, '../output/models/tfidf_vectorizer_{i}.pkl'.format(i=i))\n",
    "    else:\n",
    "        print(f\"Size for category '{i}' is 100\".format(i=i))\n",
    "        pass"
   ]
  }
 ],
 "metadata": {
  "kernelspec": {
   "display_name": "Python 3 (ipykernel)",
   "language": "python",
   "name": "python3"
  },
  "language_info": {
   "codemirror_mode": {
    "name": "ipython",
    "version": 3
   },
   "file_extension": ".py",
   "mimetype": "text/x-python",
   "name": "python",
   "nbconvert_exporter": "python",
   "pygments_lexer": "ipython3",
   "version": "3.9.13"
  },
  "vscode": {
   "interpreter": {
    "hash": "916dbcbb3f70747c44a77c7bcd40155683ae19c65e1c03b4aa3499c5328201f1"
   }
  }
 },
 "nbformat": 4,
 "nbformat_minor": 5
}
